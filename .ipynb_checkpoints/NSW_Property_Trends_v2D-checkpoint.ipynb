{
 "cells": [
  {
   "cell_type": "code",
   "execution_count": 1,
   "id": "809673d2",
   "metadata": {},
   "outputs": [],
   "source": [
    "import json\n",
    "import requests\n",
    "import re,string,timeit\n",
    "import time\n",
    "import pandas as pd\n",
    "import os\n",
    "from dotenv import load_dotenv"
   ]
  },
  {
   "cell_type": "markdown",
   "id": "87afe41d",
   "metadata": {},
   "source": [
    "Setup your parameters\n",
    "Request URL\n",
    "https://api.domain.com.au/v2/suburbPerformanceStatistics/NSW/Castle%20Hill/2154?propertyCategory=house&bedrooms=3&periodSize=quarters&startingPeriodRelativeToCurrent=40&totalPeriods=40\n"
   ]
  },
  {
   "cell_type": "markdown",
   "id": "5eb805f9",
   "metadata": {},
   "source": [
    "Provide your client credentials as per your Domain developer account.\n",
    "\n",
    "Required: client_id and client_secret\n",
    "\n",
    "Make a POST request to receive token."
   ]
  },
  {
   "cell_type": "code",
   "execution_count": 2,
   "id": "c0f7d90d",
   "metadata": {},
   "outputs": [
    {
     "data": {
      "text/plain": [
       "str"
      ]
     },
     "execution_count": 2,
     "metadata": {},
     "output_type": "execute_result"
    }
   ],
   "source": [
    "load_dotenv()\n",
    "client_id =os.getenv(\"domain_client_id\")\n",
    "client_secret = os.getenv(\"domain_client_oauth_secrets\")\n",
    "type(client_secret)\n",
    "\n"
   ]
  },
  {
   "cell_type": "code",
   "execution_count": 3,
   "id": "5f1d6c15",
   "metadata": {},
   "outputs": [],
   "source": [
    "#to authenticate client credentials\n",
    "# Make a POST request to the https://auth.domain.com.au/v2/connect/token endpoint using your client_id and client_secret, along with the list of scopes that you require. \n",
    "auth_url2 = 'https://auth.domain.com.au/v1/connect/token'"
   ]
  },
  {
   "cell_type": "code",
   "execution_count": 4,
   "id": "28c6ce4f",
   "metadata": {},
   "outputs": [],
   "source": [
    "\n",
    "# https://developer.domain.com.au/docs/v2/apis/pkg_properties_locations/references/suburbperformance_get_bynamedsuburb\n",
    "# GET /v2/suburbPerformanceStatistics/{state}/{suburb}/{postcode}"
   ]
  },
  {
   "cell_type": "code",
   "execution_count": 5,
   "id": "f4ae9f9a",
   "metadata": {},
   "outputs": [],
   "source": [
    "#Scope and Permissions\n",
    "#The following scopes may be used when calling this endpoint\n",
    "#https://developer.domain.com.au/docs/v1/apis/pkg_properties_locations/references/properties_get:\n",
    "\n",
    "scopes = ['api_suburbperformance_read']"
   ]
  },
  {
   "cell_type": "code",
   "execution_count": 6,
   "id": "9599d154",
   "metadata": {},
   "outputs": [],
   "source": [
    "url_endpoint2 = 'https://api.domain.com.au/v2/suburbPerformanceStatistics/'"
   ]
  },
  {
   "cell_type": "markdown",
   "id": "87d71c9c",
   "metadata": {},
   "source": [
    "#to define suburb details example for 1 suburb only\n",
    "state='NSW'\n",
    "suburb=\"Chatswood\"\n",
    "postcode='2067'\n",
    "# property_category = 'house'\n",
    "period_size = 'quarters'\n",
    "period_length = 40\n",
    "total_periods= 40\n",
    "url_detailed=f'https://api.domain.com.au/v2/suburbPerformanceStatistics/{state}/{suburb}/{postcode}/'\n",
    "\n",
    "\n",
    "# url_detailed = 'https://api.domain.com.au/v2/suburbPerformanceStatistics/{}/{}/{}?propertyCategory={}&bedrooms={}&periodSize={}&startingPeriodRelativeToCurrent={}&totalPeriods={}'.format(state,suburb,postcode,propertyCategory,bedrooms,periodSize,startingPeriodRelativeToCurrent,totalPeriods)"
   ]
  },
  {
   "cell_type": "code",
   "execution_count": null,
   "id": "0864ca3b",
   "metadata": {},
   "outputs": [],
   "source": []
  },
  {
   "cell_type": "code",
   "execution_count": null,
   "id": "5a795fc2",
   "metadata": {},
   "outputs": [],
   "source": []
  },
  {
   "cell_type": "code",
   "execution_count": null,
   "id": "0ebd80fd",
   "metadata": {},
   "outputs": [],
   "source": []
  },
  {
   "cell_type": "code",
   "execution_count": 7,
   "id": "abf558f4",
   "metadata": {},
   "outputs": [],
   "source": [
    "#housing data with bedrooms, houseCategories, timeperiods length\n",
    "def get_property_info(suburb,postcode):\n",
    "    response = requests.post(auth_url2,\n",
    "        data = {\n",
    "        'client_id':client_id,\n",
    "        'client_secret':client_secret,\n",
    "        'grant_type':'client_credentials',\n",
    "        'scope': scopes,\n",
    "        'Content-Type':'text/json'}\n",
    "        )\n",
    "    json_res = response.json()\n",
    "    access_token=json_res[\"access_token\"]\n",
    "    print(access_token)\n",
    "    auth = {'Authorization':'Bearer '+access_token}\n",
    "    \n",
    "    url_detailed=f'https://api.domain.com.au/v2/suburbPerformanceStatistics/NSW/{suburb}/{postcode}/?totalPeriods=40'\n",
    "\n",
    "\n",
    "\n",
    "    res2 = requests.get(url_detailed,headers = auth)\n",
    "    \n",
    "    r2=res2.json()\n",
    "    \n",
    "    json_object =json.dumps(r2,indent=4)\n",
    "    json.dumps(r2,indent=4)\n",
    "   \n",
    "    with open(\"./resources/{}_{}.json\".format(postcode,suburb),\"w\") as outfile:\n",
    "        outfile.write(json_object)\n",
    "\n",
    "# get_property_info()\n",
    "\n"
   ]
  },
  {
   "cell_type": "code",
   "execution_count": 12,
   "id": "a9982782",
   "metadata": {},
   "outputs": [
    {
     "name": "stdout",
     "output_type": "stream",
     "text": [
      "53a7cd1e4dfb34689ee28c5ba6710198\n",
      "f43e5a088d6181b1e53d86e80de7247a\n",
      "9d377d10921dd3dedd87f984995d2164\n",
      "b0801b798fbb2b81225cc2f47e29c9eb\n",
      "9cc6fc396191db2bd170cf93c1763472\n",
      "67f8d13b78c2dc8e2c20a60ed5c3af4f\n",
      "13d83f182046fdd462937eb22828218e\n",
      "3ddd30c447eb1f9442caf68be69562bd\n",
      "8d1d6a48847c1adf7fb7092fc831f4a5\n",
      "9aab5ca58aace763355a57222c882d60\n",
      "c4f57e78f4201cfe7223b0651821fd56\n",
      "3668581b72f8979b10edfbc67b56d776\n",
      "c8d548a069420602a33666d3661a35c0\n",
      "7eecfd0e3ae91a274f2aad80c3fa3ad7\n",
      "34b74edfd1373bae16596e952b8de2ac\n",
      "26109274da24377ac1a24b16c3340eab\n",
      "68feb8fd90e8da8f616d9de26ce38ea0\n",
      "4c66f3d66f96de2cd3d357c9153396f2\n",
      "984916bb83be8c49f1a5494bc7bf4126\n",
      "9a96d57a54aef04ef79245f762151696\n",
      "4fdaef8ee32a36557af46718882b2306\n",
      "3332f79fa1622193fc46ca319507f580\n",
      "ae1961a90a4f18041f6ced0d281febfb\n",
      "535ba45e98f33405632e725eb5059181\n",
      "04121f13f3e85a103218f5ba1f1b65fa\n",
      "dc4244d3c81d78f2e31287cb39213096\n",
      "9fdb2dbe907f411d68f3b1d137e89a4f\n",
      "f6948622e590c5517f878a379aebe28d\n",
      "eba9c83a3b7fc7a5302f979a91251796\n",
      "b6fd87ae17fd7466500c70fa5d38b2f5\n",
      "df3cb7026dbce8f767485d0e137ce6d9\n",
      "56a9f94a75e5d7d6cd7da49b824f5c1a\n",
      "033b6b801ede80609f33f3b7fabd3325\n",
      "7cb4de19d6d001f18c03d7f28b25851a\n",
      "5e85d6832530260169152645642132d1\n",
      "60054c069f5a843f813d9bfeddd871b1\n",
      "4ca526e86ec01da897fe5961fe64fa86\n",
      "78d14ea842bdab0b798b46cc79ec501c\n",
      "b2777d4cffc3adfcf49f3a8371cece00\n",
      "afe0987b2c46af0dbcf09843933bede8\n",
      "1d529fee1856992c2975cd07f0fddda7\n",
      "195dfcbb25e7c582ef6fd2f0f701e636\n",
      "802e9e82deac1350d92be518a47b5b1a\n",
      "dc531724aa4582cbd0fa80d2079fdc9c\n",
      "1c5c07e9eff5892841ae0fb29b760622\n",
      "b7fe485be13335e121301f62888d04d2\n",
      "950eceb586576b0e8475638848e7081b\n",
      "4def7c52efaddc6bb243664dae0d6410\n",
      "f4666a9de1d5af1f5ed24c67189db397\n",
      "a011a7686fea0dfa208666290797cea7\n",
      "d4f4b7b0ca8e06dad7ee9cb314d73c60\n"
     ]
    }
   ],
   "source": [
    "#This is just a sample test dict of suburbs to checkout dataframe\n",
    "list_suburbs={\"Randwick\":2031,\n",
    "             \"Paddington\":2021,\n",
    "             \"Zetland\":2017,\n",
    "             \"Lane Cove\":2066,\n",
    "             \"Artarmon\":2064,\n",
    "              \"St Leonards\":2065,\n",
    "              \"Mosman\":2088,\n",
    "              \"Pymble\":2073,\n",
    "              \"Frenchs Forest\":2086,\n",
    "              \"Epping\":2121,\n",
    "              \"Pennant Hills\":2120,\n",
    "              \"Baulkham Hills\":2153,\n",
    "              \"Castle Hill\":2154,\n",
    "              \"Kellyville\":2155,\n",
    "              \"Hornsby\":2077,\n",
    "              \"Campbelltown\": 2560,\n",
    "              \"Mount Annan\": 2567,\n",
    "              \"Bradbury\": 2560,\n",
    "              \"Leumeah\": 2560,\n",
    "              \"Rosemeadow\": 2560,\n",
    "              \"Spring Farm\": 2570,\n",
    "              \"Kurnell\": 2231,\n",
    "              \"Menangle Park\": 2563,\n",
    "              \"Cronulla\": 2230,\n",
    "              \"Woolooware\": 2230,\n",
    "              \"Burraneer\": 2230,\n",
    "              \"Caringbah\": 2229,\n",
    "              \"Gilead\": 2560,\n",
    "              \"Mulgoa\": 2745,\n",
    "              \"Taren Point\": 2229,\n",
    "              \"Sylvania\": 2224,\n",
    "              \"Alstonville\":2477,\n",
    "              \"Ballina\":2478,\n",
    "              \"Banora Point\":2486,\n",
    "              \"Broadwater\":2472,\n",
    "              \"Brunswick Heads\":2483,\n",
    "              \"Byron Bay\":2481,\n",
    "              \"Cabarita Beach\":2488,\n",
    "              \"Casino\":2470,\n",
    "              \"Casuarina\":2487,\n",
    "              \"Chinderah\":2487,\n",
    "              \"Evans Head\":2473,\n",
    "              \"Iluka\":2466,\n",
    "              \"Kingscliff\":2487,\n",
    "              \"Kyogle\":2474,\n",
    "              \"Lennox Head\":2478,\n",
    "              \"Murwillumbah\":2484,\n",
    "              \"Ocean Shores\":2483,\n",
    "              \"Pottsville\":2489,\n",
    "              \"Woodburn\":2472,\n",
    "              \"Yamba\":2464 \n",
    "              }\n",
    "for suburb,postcode in list_suburbs.items():\n",
    "#     print(f\"getting data for {suburb},{postcode}\")\n",
    "    get_property_info(suburb, postcode)\n",
    "    "
   ]
  },
  {
   "cell_type": "code",
   "execution_count": null,
   "id": "25f183e6",
   "metadata": {},
   "outputs": [],
   "source": []
  },
  {
   "cell_type": "code",
   "execution_count": 13,
   "id": "e2b44173",
   "metadata": {},
   "outputs": [],
   "source": [
    "#to open json file saved in previous step & convert to dataframe & combine all dataframe into a master dataframe\n",
    "df = pd.DataFrame()\n",
    "frames= []\n",
    "for suburb, postcode in list_suburbs.items(): \n",
    "    with open(\"./resources/{}_{}.json\".format(postcode,suburb),\"r\") as sub_housing_data:\n",
    "        sub_housing_data=json.load(sub_housing_data)\n",
    "        suburb_name=sub_housing_data['header']['suburb']\n",
    "        \n",
    "    for x in range (40):\n",
    "        \n",
    "        headers_dict1=sub_housing_data['series']['seriesInfo'][x]['values']\n",
    "        headers_dict1[\"year\"]=sub_housing_data['series']['seriesInfo'][x][\"year\"]\n",
    "        headers_dict1[\"month\"]=sub_housing_data['series']['seriesInfo'][x][\"month\"]\n",
    "        sub_df1 = pd.DataFrame(headers_dict1.values(),index=headers_dict1.keys(),columns=[suburb_name]).T\n",
    "      \n",
    "        sub_df1 = sub_df1.reset_index().drop(columns=[\"auctionNumberWithdrawn\",\"daysOnMarket\",\"discountPercentage\",\n",
    "                                                      \"5thPercentileSoldPrice\",\"25thPercentileSoldPrice\",\n",
    "                                                      \"75thPercentileSoldPrice\",\"95thPercentileSoldPrice\",\n",
    "                                                      \"numberRentListing\",\"highestRentListingPrice\",\"lowestRentListingPrice\"]).rename(columns={\"index\":\"suburb\"})\n",
    "        frames.append(sub_df1)\n",
    "        df = pd.concat(frames)\n",
    "        \n",
    "\n",
    "    "
   ]
  },
  {
   "cell_type": "code",
   "execution_count": null,
   "id": "90119d5e",
   "metadata": {},
   "outputs": [],
   "source": []
  },
  {
   "cell_type": "code",
   "execution_count": 14,
   "id": "924575e4",
   "metadata": {},
   "outputs": [
    {
     "data": {
      "text/plain": [
       "Index(['suburb', 'medianSoldPrice', 'numberSold', 'highestSoldPrice',\n",
       "       'lowestSoldPrice', 'medianSaleListingPrice', 'numberSaleListing',\n",
       "       'highestSaleListingPrice', 'lowestSaleListingPrice',\n",
       "       'auctionNumberAuctioned', 'auctionNumberSold', 'medianRentListingPrice',\n",
       "       'year', 'month'],\n",
       "      dtype='object')"
      ]
     },
     "execution_count": 14,
     "metadata": {},
     "output_type": "execute_result"
    }
   ],
   "source": [
    "df.columns"
   ]
  },
  {
   "cell_type": "code",
   "execution_count": null,
   "id": "d72368eb",
   "metadata": {},
   "outputs": [],
   "source": [
    "df = df[['year', 'month','suburb', 'medianSoldPrice', 'numberSold', 'highestSoldPrice',\n",
    "       'lowestSoldPrice', 'medianSaleListingPrice', 'numberSaleListing',\n",
    "       'highestSaleListingPrice', 'lowestSaleListingPrice',\n",
    "       'auctionNumberAuctioned', 'auctionNumberSold', 'medianRentListingPrice',\n",
    "       ]]"
   ]
  },
  {
   "cell_type": "code",
   "execution_count": null,
   "id": "3ec33128",
   "metadata": {},
   "outputs": [],
   "source": [
    "df.sample(10)"
   ]
  },
  {
   "cell_type": "code",
   "execution_count": null,
   "id": "8ebea16d",
   "metadata": {},
   "outputs": [],
   "source": [
    "df.to_csv('data.csv',index=False)"
   ]
  },
  {
   "cell_type": "code",
   "execution_count": null,
   "id": "427b4337",
   "metadata": {},
   "outputs": [],
   "source": [
    "#to clean dataset eg fillna(mean)"
   ]
  },
  {
   "cell_type": "code",
   "execution_count": null,
   "id": "7c2f1c01",
   "metadata": {},
   "outputs": [],
   "source": []
  },
  {
   "cell_type": "code",
   "execution_count": null,
   "id": "8e155af9",
   "metadata": {},
   "outputs": [],
   "source": []
  },
  {
   "cell_type": "code",
   "execution_count": null,
   "id": "94e34c49",
   "metadata": {},
   "outputs": [],
   "source": [
    "\n"
   ]
  },
  {
   "cell_type": "code",
   "execution_count": null,
   "id": "4fe9239f",
   "metadata": {},
   "outputs": [],
   "source": []
  },
  {
   "cell_type": "code",
   "execution_count": null,
   "id": "6e6a7acf",
   "metadata": {},
   "outputs": [],
   "source": []
  },
  {
   "cell_type": "code",
   "execution_count": null,
   "id": "a2a9e664",
   "metadata": {},
   "outputs": [],
   "source": []
  },
  {
   "cell_type": "code",
   "execution_count": null,
   "id": "326eef63",
   "metadata": {},
   "outputs": [],
   "source": []
  },
  {
   "cell_type": "code",
   "execution_count": null,
   "id": "048b073d",
   "metadata": {},
   "outputs": [],
   "source": []
  },
  {
   "cell_type": "code",
   "execution_count": null,
   "id": "23bb6424",
   "metadata": {},
   "outputs": [],
   "source": []
  },
  {
   "cell_type": "code",
   "execution_count": null,
   "id": "fdf81bed",
   "metadata": {},
   "outputs": [],
   "source": []
  },
  {
   "cell_type": "code",
   "execution_count": null,
   "id": "e80b5e6f",
   "metadata": {},
   "outputs": [],
   "source": [
    "\n"
   ]
  },
  {
   "cell_type": "code",
   "execution_count": null,
   "id": "70f9da94",
   "metadata": {},
   "outputs": [],
   "source": []
  },
  {
   "cell_type": "code",
   "execution_count": null,
   "id": "f27188a2",
   "metadata": {},
   "outputs": [],
   "source": []
  },
  {
   "cell_type": "code",
   "execution_count": null,
   "id": "1d6153c2",
   "metadata": {},
   "outputs": [],
   "source": []
  }
 ],
 "metadata": {
  "kernelspec": {
   "display_name": "Python [conda env:pyvizenv] *",
   "language": "python",
   "name": "conda-env-pyvizenv-py"
  },
  "language_info": {
   "codemirror_mode": {
    "name": "ipython",
    "version": 3
   },
   "file_extension": ".py",
   "mimetype": "text/x-python",
   "name": "python",
   "nbconvert_exporter": "python",
   "pygments_lexer": "ipython3",
   "version": "3.7.10"
  }
 },
 "nbformat": 4,
 "nbformat_minor": 5
}
