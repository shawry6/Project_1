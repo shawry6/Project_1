{
 "cells": [
  {
   "cell_type": "code",
   "execution_count": 1,
   "id": "1186a5bc",
   "metadata": {},
   "outputs": [],
   "source": [
    "import json\n",
    "import requests\n",
    "import re,string,timeit\n",
    "import time\n",
    "import pandas as pd\n",
    "import os\n",
    "from dotenv import load_dotenv"
   ]
  },
  {
   "cell_type": "markdown",
   "id": "5183a5fa",
   "metadata": {},
   "source": [
    "Setup your parameters\n",
    "Request URL\n",
    "https://api.domain.com.au/v2/suburbPerformanceStatistics/NSW/Castle%20Hill/2154?propertyCategory=house&bedrooms=3&periodSize=quarters&startingPeriodRelativeToCurrent=40&totalPeriods=40\n"
   ]
  },
  {
   "cell_type": "markdown",
   "id": "f1effde1",
   "metadata": {},
   "source": [
    "Provide your client credentials as per your Domain developer account.\n",
    "\n",
    "Required: client_id and client_secret\n",
    "\n",
    "Make a POST request to receive token."
   ]
  },
  {
   "cell_type": "code",
   "execution_count": 2,
   "id": "1c8d12f6",
   "metadata": {},
   "outputs": [
    {
     "name": "stdout",
     "output_type": "stream",
     "text": [
      "secret_52c117026e2eda7c01034fc464d0263d\n"
     ]
    }
   ],
   "source": [
    "# Dave's domain stuff\n",
    "client_id = 'client_eec1db2c3f183f88c02e086b36dd0010'\n",
    "client_secret = 'secret_52c117026e2eda7c01034fc464d0263d'\n",
    "print(client_secret)"
   ]
  },
  {
   "cell_type": "code",
   "execution_count": 3,
   "id": "f2233d28",
   "metadata": {},
   "outputs": [],
   "source": [
    "# load_dotenv()\n",
    "# client_id =os.getenv(\"domain_client_id\")\n",
    "# client_secret = os.getenv(\"domain_client_oauth_secrets\")\n",
    "# type(client_secret)\n",
    "\n",
    "# print(client_secret)"
   ]
  },
  {
   "cell_type": "code",
   "execution_count": 4,
   "id": "fa449897",
   "metadata": {},
   "outputs": [],
   "source": [
    "#to authenticate client credentials\n",
    "# Make a POST request to the https://auth.domain.com.au/v2/connect/token endpoint using your client_id and client_secret, along with the list of scopes that you require. \n",
    "auth_url2 = 'https://auth.domain.com.au/v1/connect/token'"
   ]
  },
  {
   "cell_type": "code",
   "execution_count": 5,
   "id": "c905edcf",
   "metadata": {},
   "outputs": [],
   "source": [
    "\n",
    "# https://developer.domain.com.au/docs/v2/apis/pkg_properties_locations/references/suburbperformance_get_bynamedsuburb\n",
    "# GET /v2/suburbPerformanceStatistics/{state}/{suburb}/{postcode}"
   ]
  },
  {
   "cell_type": "code",
   "execution_count": 6,
   "id": "61a93f37",
   "metadata": {},
   "outputs": [],
   "source": [
    "#Scope and Permissions\n",
    "#The following scopes may be used when calling this endpoint\n",
    "#https://developer.domain.com.au/docs/v1/apis/pkg_properties_locations/references/properties_get:\n",
    "\n",
    "scopes = ['api_suburbperformance_read']"
   ]
  },
  {
   "cell_type": "code",
   "execution_count": 7,
   "id": "e4de72a1",
   "metadata": {},
   "outputs": [],
   "source": [
    "url_endpoint2 = 'https://api.domain.com.au/v2/suburbPerformanceStatistics/'"
   ]
  },
  {
   "cell_type": "code",
   "execution_count": 11,
   "id": "53094943",
   "metadata": {},
   "outputs": [],
   "source": [
    "#to define suburb details example for 1 suburb only\n",
    "state='NSW'\n",
    "suburb=\"Chatswood\"\n",
    "postcode='2067'\n",
    "# property_category = 'house'\n",
    "period_size = 'quarters'\n",
    "period_length = 40\n",
    "total_periods= 40\n",
    "url_detailed=f'https://api.domain.com.au/v2/suburbPerformanceStatistics/{state}/{suburb}/{postcode}/'\n",
    "\n",
    "\n",
    "# url_detailed = 'https://api.domain.com.au/v2/suburbPerformanceStatistics/{}/{}/{}?propertyCategory={}&bedrooms={}&periodSize={}&startingPeriodRelativeToCurrent={}&totalPeriods={}'.format(state,suburb,postcode,propertyCategory,bedrooms,periodSize,startingPeriodRelativeToCurrent,totalPeriods)"
   ]
  },
  {
   "cell_type": "code",
   "execution_count": null,
   "id": "45f8b632",
   "metadata": {},
   "outputs": [],
   "source": []
  },
  {
   "cell_type": "code",
   "execution_count": null,
   "id": "4d89fcbd",
   "metadata": {},
   "outputs": [],
   "source": []
  },
  {
   "cell_type": "code",
   "execution_count": null,
   "id": "f1e593ee",
   "metadata": {},
   "outputs": [],
   "source": []
  },
  {
   "cell_type": "code",
   "execution_count": 17,
   "id": "f86d583d",
   "metadata": {},
   "outputs": [],
   "source": [
    "#housing data with bedrooms, houseCategories, timeperiods length\n",
    "def get_property_info(suburb,postcode):\n",
    "    response = requests.post(auth_url2,\n",
    "        data = {\n",
    "        'client_id':client_id,\n",
    "        'client_secret':client_secret,\n",
    "        'grant_type':'client_credentials',\n",
    "        'scope': scopes,\n",
    "        'Content-Type':'text/json'}\n",
    "        )\n",
    "    json_res = response.json()\n",
    "    access_token=json_res[\"access_token\"]\n",
    "    print(access_token)\n",
    "    auth = {'Authorization':'Bearer '+access_token}\n",
    "    \n",
    "    url_detailed=f'https://api.domain.com.au/v2/suburbPerformanceStatistics/NSW/{suburb}/{postcode}/?totalPeriods=40'\n",
    "\n",
    "\n",
    "\n",
    "    res2 = requests.get(url_detailed,headers = auth)\n",
    "    \n",
    "    r2=res2.json()\n",
    "    \n",
    "    json_object =json.dumps(r2,indent=4)\n",
    "    json.dumps(r2,indent=4)\n",
    "   \n",
    "    with open(\"./resources/{}_{}.json\".format(postcode,suburb),\"w\") as outfile:\n",
    "        outfile.write(json_object)\n",
    "\n",
    "# get_property_info()\n",
    "\n"
   ]
  },
  {
   "cell_type": "code",
   "execution_count": 13,
   "id": "2cdb24f9",
   "metadata": {},
   "outputs": [
    {
     "name": "stdout",
     "output_type": "stream",
     "text": [
      "db62cac352a771dd143fe6ed6dd8ef4f\n",
      "f2fadbf13030398898eaa4ab51a898e3\n",
      "512f0865b67760ca798a40804a1560aa\n",
      "ee44eb4875b23f15e97806e98b8130d8\n",
      "b210a57641c74c713d1cf38d494ee6f3\n",
      "85144e75b942d2029d126240a3b4971e\n",
      "fcc97ddbde8253c243c23f9f74c63aeb\n",
      "e259e474fcfbd93560d34304481ae0b7\n",
      "b6c60b6d267326ff9b59c2b7101f9d69\n",
      "7a83e931907ce2fcc33f178485783a73\n",
      "31b0d72bfec7fe184d21e2a9669057ec\n",
      "4f790b6cff8a7e633b0389a29cc66f37\n",
      "019b15ea3ea2a3f42cab86bc840518bc\n",
      "ecae7ad5bbd42568c070f0441f3f5054\n",
      "531fe7dbf6a3697a24dd6c7a1d0a7c54\n",
      "02e79f27f26c36d136b994600d625356\n",
      "63a5c843c302d61b967d8193499ec009\n",
      "3fa984ee43b50957c9ed2e7098a26118\n",
      "361649f06be0f416f92f258a3482bf60\n",
      "e1aaf91198edd5f0e52895942886495f\n",
      "1d25f0fe7ec1ed961fa2ee19e5a2a155\n",
      "af55adce7da0b9f91f033f59fca084b4\n",
      "33cba4951e4a904d431317ad78410d97\n",
      "a1b4d600d233538fd7eb8dfc2b5cffde\n",
      "5874daece80abd954890ee7ae62d3c42\n",
      "69262c55ef206a5eaf3133657c8ee9ad\n",
      "558f4e4600b3dd860c85dce83b0b0d1d\n",
      "04d9d1bacd590b87234c76db1ebaf756\n",
      "73e80d7c101134bcd035fc0a2c249ac8\n",
      "c1739c3a1ef2a1a264dd45d8593ea934\n",
      "c6559410418d0aafafee771991a9ca31\n",
      "341a49f9884068c30287a8f6afb19d11\n",
      "5ccd9a846541065f2b66930dbc0cdbb3\n",
      "646c94aed154ef1a82966a0b642566b7\n",
      "37cf3c0f3b6ce3318c08116d3b7dd927\n",
      "d53333310cf61d04f5bd8e33f30ef71e\n",
      "168a461c27437e374b97d960298d6ac5\n",
      "c234b2a3ef490d954c398bea107b3085\n",
      "a63b153ffe23a11340175b18d0ed2323\n",
      "05ead864ac576af36052b6630cef2ac8\n",
      "2ccce188ca32659ec731fa547eab32c5\n",
      "fd394ab0347717c1b98e9cf2b774a3ea\n",
      "aba185a234b01f1d14530e7743398e0b\n",
      "8970bacd509a1c0c47ddfb94c89353cb\n",
      "f1b2e06e7fdc68b51a1802adda827cd3\n",
      "c0c0d172ad8135a3edef61f58b6145ad\n",
      "c894807736e8842584a3455d95150c38\n",
      "93b894a32e017835b758bc607f9c081d\n",
      "eaa736c556b9f07131947a65c8ade593\n",
      "119915428fbe8fd6b6ad91e0cd10cbf0\n",
      "d4415d7715d638bb8cfb4e38f96a86b0\n"
     ]
    }
   ],
   "source": [
    "#This is just a sample test dict of suburbs to checkout dataframe\n",
    "list_suburbs={\"Randwick\":2031,\n",
    "             \"Paddington\":2021,\n",
    "             \"Zetland\":2017,\n",
    "             \"Lane Cove\":2066,\n",
    "             \"Artarmon\":2064,\n",
    "              \"St Leonards\":2065,\n",
    "              \"Mosman\":2088,\n",
    "              \"Pymble\":2073,\n",
    "              \"Frenchs Forest\":2086,\n",
    "              \"Epping\":2121,\n",
    "              \"Pennant Hills\":2120,\n",
    "              \"Baulkham Hills\":2153,\n",
    "              \"Castle Hill\":2154,\n",
    "              \"Kellyville\":2155,\n",
    "              \"Hornsby\":2077,\n",
    "              \"Campbelltown\": 2560,\n",
    "              \"Mount Annan\": 2567,\n",
    "              \"Bradbury\": 2560,\n",
    "              \"Leumeah\": 2560,\n",
    "              \"Rosemeadow\": 2560,\n",
    "              \"Spring Farm\": 2570,\n",
    "              \"Kurnell\": 2231,\n",
    "              \"Menangle Park\": 2563,\n",
    "              \"Cronulla\": 2230,\n",
    "              \"Woolooware\": 2230,\n",
    "              \"Burraneer\": 2230,\n",
    "              \"Caringbah\": 2229,\n",
    "              \"Gilead\": 2560,\n",
    "              \"Mulgoa\": 2745,\n",
    "              \"Taren Point\": 2229,\n",
    "              \"Sylvania\": 2224,\n",
    "              \"Alstonville\":2477,\n",
    "              \"Ballina\":2478,\n",
    "              \"Banora Point\":2486,\n",
    "              \"Broadwater\":2472,\n",
    "              \"Brunswick Heads\":2483,\n",
    "              \"Byron Bay\":2481,\n",
    "              \"Cabarita Beach\":2488,\n",
    "              \"Casino\":2470,\n",
    "              \"Casuarina\":2487,\n",
    "              \"Chinderah\":2487,\n",
    "              \"Evans Head\":2473,\n",
    "              \"Iluka\":2466,\n",
    "              \"Kingscliff\":2487,\n",
    "              \"Kyogle\":2474,\n",
    "              \"Lennox Head\":2478,\n",
    "              \"Murwillumbah\":2484,\n",
    "              \"Ocean Shores\":2483,\n",
    "              \"Pottsville\":2489,\n",
    "              \"Woodburn\":2472,\n",
    "              \"Yamba\":2464 \n",
    "              }\n",
    "for suburb,postcode in list_suburbs.items():\n",
    "#     print(f\"getting data for {suburb},{postcode}\")\n",
    "    get_property_info(suburb, postcode)\n",
    "    "
   ]
  },
  {
   "cell_type": "code",
   "execution_count": null,
   "id": "5a0110f6",
   "metadata": {},
   "outputs": [],
   "source": []
  },
  {
   "cell_type": "code",
   "execution_count": 15,
   "id": "4ff8cdb1",
   "metadata": {},
   "outputs": [
    {
     "ename": "KeyError",
     "evalue": "'header'",
     "output_type": "error",
     "traceback": [
      "\u001b[1;31m---------------------------------------------------------------------------\u001b[0m",
      "\u001b[1;31mKeyError\u001b[0m                                  Traceback (most recent call last)",
      "\u001b[1;32m<ipython-input-15-1ab5e51d0416>\u001b[0m in \u001b[0;36m<module>\u001b[1;34m\u001b[0m\n\u001b[0;32m      5\u001b[0m     \u001b[1;32mwith\u001b[0m \u001b[0mopen\u001b[0m\u001b[1;33m(\u001b[0m\u001b[1;34m\"./resources/{}_{}.json\"\u001b[0m\u001b[1;33m.\u001b[0m\u001b[0mformat\u001b[0m\u001b[1;33m(\u001b[0m\u001b[0mpostcode\u001b[0m\u001b[1;33m,\u001b[0m\u001b[0msuburb\u001b[0m\u001b[1;33m)\u001b[0m\u001b[1;33m,\u001b[0m\u001b[1;34m\"r\"\u001b[0m\u001b[1;33m)\u001b[0m \u001b[1;32mas\u001b[0m \u001b[0msub_housing_data\u001b[0m\u001b[1;33m:\u001b[0m\u001b[1;33m\u001b[0m\u001b[1;33m\u001b[0m\u001b[0m\n\u001b[0;32m      6\u001b[0m         \u001b[0msub_housing_data\u001b[0m\u001b[1;33m=\u001b[0m\u001b[0mjson\u001b[0m\u001b[1;33m.\u001b[0m\u001b[0mload\u001b[0m\u001b[1;33m(\u001b[0m\u001b[0msub_housing_data\u001b[0m\u001b[1;33m)\u001b[0m\u001b[1;33m\u001b[0m\u001b[1;33m\u001b[0m\u001b[0m\n\u001b[1;32m----> 7\u001b[1;33m         \u001b[0msuburb_name\u001b[0m\u001b[1;33m=\u001b[0m\u001b[0msub_housing_data\u001b[0m\u001b[1;33m[\u001b[0m\u001b[1;34m'header'\u001b[0m\u001b[1;33m]\u001b[0m\u001b[1;33m[\u001b[0m\u001b[1;34m'suburb'\u001b[0m\u001b[1;33m]\u001b[0m\u001b[1;33m\u001b[0m\u001b[1;33m\u001b[0m\u001b[0m\n\u001b[0m\u001b[0;32m      8\u001b[0m \u001b[1;33m\u001b[0m\u001b[0m\n\u001b[0;32m      9\u001b[0m     \u001b[1;32mfor\u001b[0m \u001b[0mx\u001b[0m \u001b[1;32min\u001b[0m \u001b[0mrange\u001b[0m \u001b[1;33m(\u001b[0m\u001b[1;36m40\u001b[0m\u001b[1;33m)\u001b[0m\u001b[1;33m:\u001b[0m\u001b[1;33m\u001b[0m\u001b[1;33m\u001b[0m\u001b[0m\n",
      "\u001b[1;31mKeyError\u001b[0m: 'header'"
     ]
    }
   ],
   "source": [
    "#to open json file saved in previous step & convert to dataframe & combine all dataframe into a master dataframe\n",
    "df = pd.DataFrame()\n",
    "frames= []\n",
    "for suburb, postcode in list_suburbs.items(): \n",
    "    with open(\"./resources/{}_{}.json\".format(postcode,suburb),\"r\") as sub_housing_data:\n",
    "        sub_housing_data=json.load(sub_housing_data)\n",
    "        suburb_name=sub_housing_data['header']['suburb']\n",
    "        \n",
    "    for x in range (40):\n",
    "        \n",
    "        headers_dict1=sub_housing_data['series']['seriesInfo'][x]['values']\n",
    "        headers_dict1[\"year\"]=sub_housing_data['series']['seriesInfo'][x][\"year\"]\n",
    "        headers_dict1[\"month\"]=sub_housing_data['series']['seriesInfo'][x][\"month\"]\n",
    "        sub_df1 = pd.DataFrame(headers_dict1.values(),index=headers_dict1.keys(),columns=[suburb_name]).T\n",
    "      \n",
    "        sub_df1 = sub_df1.reset_index().drop(columns=[\"auctionNumberWithdrawn\",\"daysOnMarket\",\"discountPercentage\",\n",
    "                                                      \"5thPercentileSoldPrice\",\"25thPercentileSoldPrice\",\n",
    "                                                      \"75thPercentileSoldPrice\",\"95thPercentileSoldPrice\",\n",
    "                                                      \"numberRentListing\",\"highestRentListingPrice\",\"lowestRentListingPrice\"]).rename(columns={\"index\":\"suburb\"})\n",
    "        frames.append(sub_df1)\n",
    "        df = pd.concat(frames)\n",
    "        \n",
    "\n"
   ]
  },
  {
   "cell_type": "code",
   "execution_count": null,
   "id": "9d468413",
   "metadata": {},
   "outputs": [],
   "source": []
  },
  {
   "cell_type": "code",
   "execution_count": null,
   "id": "c430f150",
   "metadata": {},
   "outputs": [],
   "source": [
    "df.columns"
   ]
  },
  {
   "cell_type": "code",
   "execution_count": null,
   "id": "42162cf7",
   "metadata": {},
   "outputs": [],
   "source": [
    "df = df[['year', 'month','suburb', 'medianSoldPrice', 'numberSold', 'highestSoldPrice',\n",
    "       'lowestSoldPrice', 'medianSaleListingPrice', 'numberSaleListing',\n",
    "       'highestSaleListingPrice', 'lowestSaleListingPrice',\n",
    "       'auctionNumberAuctioned', 'auctionNumberSold', 'medianRentListingPrice',\n",
    "       ]]"
   ]
  },
  {
   "cell_type": "code",
   "execution_count": null,
   "id": "1e521e91",
   "metadata": {},
   "outputs": [],
   "source": [
    "df.sample(10)"
   ]
  },
  {
   "cell_type": "code",
   "execution_count": null,
   "id": "da768cbc",
   "metadata": {},
   "outputs": [],
   "source": [
    "df.to_csv('data.csv',index=False)"
   ]
  },
  {
   "cell_type": "code",
   "execution_count": null,
   "id": "11cd22b3",
   "metadata": {},
   "outputs": [],
   "source": [
    "#to clean dataset eg fillna(mean)"
   ]
  },
  {
   "cell_type": "code",
   "execution_count": null,
   "id": "70c04539",
   "metadata": {},
   "outputs": [],
   "source": []
  },
  {
   "cell_type": "code",
   "execution_count": null,
   "id": "80bb8b7f",
   "metadata": {},
   "outputs": [],
   "source": []
  },
  {
   "cell_type": "code",
   "execution_count": null,
   "id": "bd6d97ab",
   "metadata": {},
   "outputs": [],
   "source": [
    "\n"
   ]
  },
  {
   "cell_type": "code",
   "execution_count": null,
   "id": "28cc1b42",
   "metadata": {},
   "outputs": [],
   "source": []
  },
  {
   "cell_type": "code",
   "execution_count": null,
   "id": "6f17a23c",
   "metadata": {},
   "outputs": [],
   "source": []
  },
  {
   "cell_type": "code",
   "execution_count": null,
   "id": "a9ba0322",
   "metadata": {},
   "outputs": [],
   "source": []
  },
  {
   "cell_type": "code",
   "execution_count": null,
   "id": "4a493493",
   "metadata": {},
   "outputs": [],
   "source": []
  },
  {
   "cell_type": "code",
   "execution_count": null,
   "id": "5a34d788",
   "metadata": {},
   "outputs": [],
   "source": []
  },
  {
   "cell_type": "code",
   "execution_count": null,
   "id": "f2af79d2",
   "metadata": {},
   "outputs": [],
   "source": []
  },
  {
   "cell_type": "code",
   "execution_count": null,
   "id": "adbaddcc",
   "metadata": {},
   "outputs": [],
   "source": []
  },
  {
   "cell_type": "code",
   "execution_count": null,
   "id": "0db61da9",
   "metadata": {},
   "outputs": [],
   "source": [
    "\n"
   ]
  },
  {
   "cell_type": "code",
   "execution_count": null,
   "id": "0ab45d34",
   "metadata": {},
   "outputs": [],
   "source": []
  },
  {
   "cell_type": "code",
   "execution_count": null,
   "id": "5283d48a",
   "metadata": {},
   "outputs": [],
   "source": []
  },
  {
   "cell_type": "code",
   "execution_count": null,
   "id": "bccd8e62",
   "metadata": {},
   "outputs": [],
   "source": []
  }
 ],
 "metadata": {
  "kernelspec": {
   "display_name": "Python [conda env:pyvizenv] *",
   "language": "python",
   "name": "conda-env-pyvizenv-py"
  },
  "language_info": {
   "codemirror_mode": {
    "name": "ipython",
    "version": 3
   },
   "file_extension": ".py",
   "mimetype": "text/x-python",
   "name": "python",
   "nbconvert_exporter": "python",
   "pygments_lexer": "ipython3",
   "version": "3.7.10"
  }
 },
 "nbformat": 4,
 "nbformat_minor": 5
}
