{
 "cells": [
  {
   "cell_type": "markdown",
   "metadata": {},
   "source": [
    "# NSW Domain csv Cleaner"
   ]
  },
  {
   "cell_type": "markdown",
   "metadata": {},
   "source": [
    "## Import libraries and dependencies"
   ]
  },
  {
   "cell_type": "code",
   "execution_count": 1,
   "metadata": {},
   "outputs": [],
   "source": [
    "# Import the pandas and pathlib libraries\n",
    "import pandas as pd\n",
    "from pathlib import Path\n",
    "import numpy as np"
   ]
  },
  {
   "cell_type": "markdown",
   "metadata": {},
   "source": [
    "## Create a Path to the File Using Pathlib & Read it into a Pandas DataFrame"
   ]
  },
  {
   "cell_type": "code",
   "execution_count": 2,
   "metadata": {},
   "outputs": [
    {
     "data": {
      "text/html": [
       "<div>\n",
       "<style scoped>\n",
       "    .dataframe tbody tr th:only-of-type {\n",
       "        vertical-align: middle;\n",
       "    }\n",
       "\n",
       "    .dataframe tbody tr th {\n",
       "        vertical-align: top;\n",
       "    }\n",
       "\n",
       "    .dataframe thead th {\n",
       "        text-align: right;\n",
       "    }\n",
       "</style>\n",
       "<table border=\"1\" class=\"dataframe\">\n",
       "  <thead>\n",
       "    <tr style=\"text-align: right;\">\n",
       "      <th></th>\n",
       "      <th>year</th>\n",
       "      <th>month</th>\n",
       "      <th>suburb</th>\n",
       "      <th>medianSoldPrice</th>\n",
       "      <th>numberSold</th>\n",
       "      <th>highestSoldPrice</th>\n",
       "      <th>lowestSoldPrice</th>\n",
       "      <th>medianSaleListingPrice</th>\n",
       "      <th>numberSaleListing</th>\n",
       "      <th>highestSaleListingPrice</th>\n",
       "      <th>lowestSaleListingPrice</th>\n",
       "      <th>auctionNumberAuctioned</th>\n",
       "      <th>auctionNumberSold</th>\n",
       "      <th>medianRentListingPrice</th>\n",
       "    </tr>\n",
       "  </thead>\n",
       "  <tbody>\n",
       "    <tr>\n",
       "      <th>0</th>\n",
       "      <td>2011.0</td>\n",
       "      <td>9.0</td>\n",
       "      <td>Huntingwood</td>\n",
       "      <td>NaN</td>\n",
       "      <td>NaN</td>\n",
       "      <td>NaN</td>\n",
       "      <td>NaN</td>\n",
       "      <td>NaN</td>\n",
       "      <td>NaN</td>\n",
       "      <td>NaN</td>\n",
       "      <td>NaN</td>\n",
       "      <td>NaN</td>\n",
       "      <td>NaN</td>\n",
       "      <td>NaN</td>\n",
       "    </tr>\n",
       "    <tr>\n",
       "      <th>1</th>\n",
       "      <td>2011.0</td>\n",
       "      <td>12.0</td>\n",
       "      <td>Huntingwood</td>\n",
       "      <td>NaN</td>\n",
       "      <td>NaN</td>\n",
       "      <td>NaN</td>\n",
       "      <td>NaN</td>\n",
       "      <td>NaN</td>\n",
       "      <td>NaN</td>\n",
       "      <td>NaN</td>\n",
       "      <td>NaN</td>\n",
       "      <td>NaN</td>\n",
       "      <td>NaN</td>\n",
       "      <td>NaN</td>\n",
       "    </tr>\n",
       "    <tr>\n",
       "      <th>2</th>\n",
       "      <td>2012.0</td>\n",
       "      <td>3.0</td>\n",
       "      <td>Huntingwood</td>\n",
       "      <td>NaN</td>\n",
       "      <td>NaN</td>\n",
       "      <td>NaN</td>\n",
       "      <td>NaN</td>\n",
       "      <td>NaN</td>\n",
       "      <td>NaN</td>\n",
       "      <td>NaN</td>\n",
       "      <td>NaN</td>\n",
       "      <td>NaN</td>\n",
       "      <td>NaN</td>\n",
       "      <td>NaN</td>\n",
       "    </tr>\n",
       "    <tr>\n",
       "      <th>3</th>\n",
       "      <td>2012.0</td>\n",
       "      <td>6.0</td>\n",
       "      <td>Huntingwood</td>\n",
       "      <td>NaN</td>\n",
       "      <td>NaN</td>\n",
       "      <td>NaN</td>\n",
       "      <td>NaN</td>\n",
       "      <td>NaN</td>\n",
       "      <td>1.0</td>\n",
       "      <td>NaN</td>\n",
       "      <td>NaN</td>\n",
       "      <td>NaN</td>\n",
       "      <td>NaN</td>\n",
       "      <td>NaN</td>\n",
       "    </tr>\n",
       "    <tr>\n",
       "      <th>4</th>\n",
       "      <td>2012.0</td>\n",
       "      <td>9.0</td>\n",
       "      <td>Huntingwood</td>\n",
       "      <td>NaN</td>\n",
       "      <td>NaN</td>\n",
       "      <td>NaN</td>\n",
       "      <td>NaN</td>\n",
       "      <td>NaN</td>\n",
       "      <td>1.0</td>\n",
       "      <td>5500000.0</td>\n",
       "      <td>5500000.0</td>\n",
       "      <td>1.0</td>\n",
       "      <td>NaN</td>\n",
       "      <td>NaN</td>\n",
       "    </tr>\n",
       "    <tr>\n",
       "      <th>...</th>\n",
       "      <td>...</td>\n",
       "      <td>...</td>\n",
       "      <td>...</td>\n",
       "      <td>...</td>\n",
       "      <td>...</td>\n",
       "      <td>...</td>\n",
       "      <td>...</td>\n",
       "      <td>...</td>\n",
       "      <td>...</td>\n",
       "      <td>...</td>\n",
       "      <td>...</td>\n",
       "      <td>...</td>\n",
       "      <td>...</td>\n",
       "      <td>...</td>\n",
       "    </tr>\n",
       "    <tr>\n",
       "      <th>2995</th>\n",
       "      <td>2020.0</td>\n",
       "      <td>6.0</td>\n",
       "      <td>Bombo</td>\n",
       "      <td>NaN</td>\n",
       "      <td>2.0</td>\n",
       "      <td>1385000.0</td>\n",
       "      <td>870000.0</td>\n",
       "      <td>NaN</td>\n",
       "      <td>3.0</td>\n",
       "      <td>1350000.0</td>\n",
       "      <td>900000.0</td>\n",
       "      <td>1.0</td>\n",
       "      <td>NaN</td>\n",
       "      <td>NaN</td>\n",
       "    </tr>\n",
       "    <tr>\n",
       "      <th>2996</th>\n",
       "      <td>2020.0</td>\n",
       "      <td>9.0</td>\n",
       "      <td>Bombo</td>\n",
       "      <td>NaN</td>\n",
       "      <td>3.0</td>\n",
       "      <td>1385000.0</td>\n",
       "      <td>940000.0</td>\n",
       "      <td>NaN</td>\n",
       "      <td>5.0</td>\n",
       "      <td>1350000.0</td>\n",
       "      <td>900000.0</td>\n",
       "      <td>NaN</td>\n",
       "      <td>NaN</td>\n",
       "      <td>NaN</td>\n",
       "    </tr>\n",
       "    <tr>\n",
       "      <th>2997</th>\n",
       "      <td>2020.0</td>\n",
       "      <td>12.0</td>\n",
       "      <td>Bombo</td>\n",
       "      <td>NaN</td>\n",
       "      <td>1.0</td>\n",
       "      <td>1475000.0</td>\n",
       "      <td>1475000.0</td>\n",
       "      <td>NaN</td>\n",
       "      <td>1.0</td>\n",
       "      <td>1250000.0</td>\n",
       "      <td>1250000.0</td>\n",
       "      <td>NaN</td>\n",
       "      <td>NaN</td>\n",
       "      <td>NaN</td>\n",
       "    </tr>\n",
       "    <tr>\n",
       "      <th>2998</th>\n",
       "      <td>2021.0</td>\n",
       "      <td>3.0</td>\n",
       "      <td>Bombo</td>\n",
       "      <td>NaN</td>\n",
       "      <td>2.0</td>\n",
       "      <td>1650000.0</td>\n",
       "      <td>950000.0</td>\n",
       "      <td>NaN</td>\n",
       "      <td>1.0</td>\n",
       "      <td>1650000.0</td>\n",
       "      <td>1650000.0</td>\n",
       "      <td>NaN</td>\n",
       "      <td>NaN</td>\n",
       "      <td>NaN</td>\n",
       "    </tr>\n",
       "    <tr>\n",
       "      <th>2999</th>\n",
       "      <td>2021.0</td>\n",
       "      <td>6.0</td>\n",
       "      <td>Bombo</td>\n",
       "      <td>NaN</td>\n",
       "      <td>NaN</td>\n",
       "      <td>NaN</td>\n",
       "      <td>NaN</td>\n",
       "      <td>NaN</td>\n",
       "      <td>NaN</td>\n",
       "      <td>NaN</td>\n",
       "      <td>NaN</td>\n",
       "      <td>NaN</td>\n",
       "      <td>NaN</td>\n",
       "      <td>NaN</td>\n",
       "    </tr>\n",
       "  </tbody>\n",
       "</table>\n",
       "<p>3000 rows × 14 columns</p>\n",
       "</div>"
      ],
      "text/plain": [
       "        year  month       suburb  medianSoldPrice  numberSold  \\\n",
       "0     2011.0    9.0  Huntingwood              NaN         NaN   \n",
       "1     2011.0   12.0  Huntingwood              NaN         NaN   \n",
       "2     2012.0    3.0  Huntingwood              NaN         NaN   \n",
       "3     2012.0    6.0  Huntingwood              NaN         NaN   \n",
       "4     2012.0    9.0  Huntingwood              NaN         NaN   \n",
       "...      ...    ...          ...              ...         ...   \n",
       "2995  2020.0    6.0        Bombo              NaN         2.0   \n",
       "2996  2020.0    9.0        Bombo              NaN         3.0   \n",
       "2997  2020.0   12.0        Bombo              NaN         1.0   \n",
       "2998  2021.0    3.0        Bombo              NaN         2.0   \n",
       "2999  2021.0    6.0        Bombo              NaN         NaN   \n",
       "\n",
       "      highestSoldPrice  lowestSoldPrice  medianSaleListingPrice  \\\n",
       "0                  NaN              NaN                     NaN   \n",
       "1                  NaN              NaN                     NaN   \n",
       "2                  NaN              NaN                     NaN   \n",
       "3                  NaN              NaN                     NaN   \n",
       "4                  NaN              NaN                     NaN   \n",
       "...                ...              ...                     ...   \n",
       "2995         1385000.0         870000.0                     NaN   \n",
       "2996         1385000.0         940000.0                     NaN   \n",
       "2997         1475000.0        1475000.0                     NaN   \n",
       "2998         1650000.0         950000.0                     NaN   \n",
       "2999               NaN              NaN                     NaN   \n",
       "\n",
       "      numberSaleListing  highestSaleListingPrice  lowestSaleListingPrice  \\\n",
       "0                   NaN                      NaN                     NaN   \n",
       "1                   NaN                      NaN                     NaN   \n",
       "2                   NaN                      NaN                     NaN   \n",
       "3                   1.0                      NaN                     NaN   \n",
       "4                   1.0                5500000.0               5500000.0   \n",
       "...                 ...                      ...                     ...   \n",
       "2995                3.0                1350000.0                900000.0   \n",
       "2996                5.0                1350000.0                900000.0   \n",
       "2997                1.0                1250000.0               1250000.0   \n",
       "2998                1.0                1650000.0               1650000.0   \n",
       "2999                NaN                      NaN                     NaN   \n",
       "\n",
       "      auctionNumberAuctioned  auctionNumberSold  medianRentListingPrice  \n",
       "0                        NaN                NaN                     NaN  \n",
       "1                        NaN                NaN                     NaN  \n",
       "2                        NaN                NaN                     NaN  \n",
       "3                        NaN                NaN                     NaN  \n",
       "4                        1.0                NaN                     NaN  \n",
       "...                      ...                ...                     ...  \n",
       "2995                     1.0                NaN                     NaN  \n",
       "2996                     NaN                NaN                     NaN  \n",
       "2997                     NaN                NaN                     NaN  \n",
       "2998                     NaN                NaN                     NaN  \n",
       "2999                     NaN                NaN                     NaN  \n",
       "\n",
       "[3000 rows x 14 columns]"
      ]
     },
     "execution_count": 2,
     "metadata": {},
     "output_type": "execute_result"
    }
   ],
   "source": [
    "# Use the Pathlib libary to set the path to the CSV\n",
    "# csv_path = Path(\"Resources/data.csv\")\n",
    "# csv_path = Path(\"Resources/data_25082021.csv\")\n",
    "# csv_path = Path(\"datav2_23082021.csv\")\n",
    "csv_path = Path(\"data_25082021_3.csv\")\n",
    "\n",
    "# Use the file path to read the CSV into a DataFrame and display a few rows\n",
    "df = pd.read_csv(csv_path)\n",
    "df"
   ]
  },
  {
   "cell_type": "markdown",
   "metadata": {},
   "source": [
    "## Analyse DataFrame"
   ]
  },
  {
   "cell_type": "code",
   "execution_count": 3,
   "metadata": {},
   "outputs": [
    {
     "name": "stdout",
     "output_type": "stream",
     "text": [
      "<class 'pandas.core.frame.DataFrame'>\n",
      "RangeIndex: 3000 entries, 0 to 2999\n",
      "Data columns (total 14 columns):\n",
      " #   Column                   Non-Null Count  Dtype  \n",
      "---  ------                   --------------  -----  \n",
      " 0   year                     3000 non-null   float64\n",
      " 1   month                    3000 non-null   float64\n",
      " 2   suburb                   3000 non-null   object \n",
      " 3   medianSoldPrice          602 non-null    float64\n",
      " 4   numberSold               1102 non-null   float64\n",
      " 5   highestSoldPrice         1095 non-null   float64\n",
      " 6   lowestSoldPrice          1088 non-null   float64\n",
      " 7   medianSaleListingPrice   718 non-null    float64\n",
      " 8   numberSaleListing        1636 non-null   float64\n",
      " 9   highestSaleListingPrice  1620 non-null   float64\n",
      " 10  lowestSaleListingPrice   1622 non-null   float64\n",
      " 11  auctionNumberAuctioned   667 non-null    float64\n",
      " 12  auctionNumberSold        566 non-null    float64\n",
      " 13  medianRentListingPrice   701 non-null    float64\n",
      "dtypes: float64(13), object(1)\n",
      "memory usage: 328.2+ KB\n"
     ]
    }
   ],
   "source": [
    "df.info()"
   ]
  },
  {
   "cell_type": "code",
   "execution_count": 4,
   "metadata": {},
   "outputs": [
    {
     "data": {
      "text/plain": [
       "year                          0\n",
       "month                         0\n",
       "suburb                        0\n",
       "medianSoldPrice            2398\n",
       "numberSold                 1898\n",
       "highestSoldPrice           1905\n",
       "lowestSoldPrice            1912\n",
       "medianSaleListingPrice     2282\n",
       "numberSaleListing          1364\n",
       "highestSaleListingPrice    1380\n",
       "lowestSaleListingPrice     1378\n",
       "auctionNumberAuctioned     2333\n",
       "auctionNumberSold          2434\n",
       "medianRentListingPrice     2299\n",
       "dtype: int64"
      ]
     },
     "execution_count": 4,
     "metadata": {},
     "output_type": "execute_result"
    }
   ],
   "source": [
    "df.isnull().sum()"
   ]
  },
  {
   "cell_type": "code",
   "execution_count": 5,
   "metadata": {},
   "outputs": [
    {
     "data": {
      "text/plain": [
       "array([ 9., 12.,  3.,  6.])"
      ]
     },
     "execution_count": 5,
     "metadata": {},
     "output_type": "execute_result"
    }
   ],
   "source": [
    "df.month.unique()"
   ]
  },
  {
   "cell_type": "code",
   "execution_count": 6,
   "metadata": {},
   "outputs": [
    {
     "data": {
      "text/plain": [
       "nan"
      ]
     },
     "execution_count": 6,
     "metadata": {},
     "output_type": "execute_result"
    }
   ],
   "source": [
    "df['medianSoldPrice'][0] "
   ]
  },
  {
   "cell_type": "code",
   "execution_count": 7,
   "metadata": {},
   "outputs": [],
   "source": [
    "df = df.fillna('NaN')"
   ]
  },
  {
   "cell_type": "code",
   "execution_count": 8,
   "metadata": {},
   "outputs": [],
   "source": [
    "list_sub = []\n",
    "for i in range(len(df)):\n",
    "    if df['medianSoldPrice'][i] == 'NaN':\n",
    "        list_sub.append(df['suburb'][i])"
   ]
  },
  {
   "cell_type": "code",
   "execution_count": 9,
   "metadata": {},
   "outputs": [
    {
     "data": {
      "text/plain": [
       "['Blair Athol',\n",
       " 'Pyangle',\n",
       " 'Yannergee',\n",
       " 'Indi',\n",
       " 'Bowman Farm',\n",
       " 'Bombo',\n",
       " 'Canonba',\n",
       " 'Pooncarie',\n",
       " 'Huntingwood',\n",
       " 'Maroota',\n",
       " 'Holbrook',\n",
       " 'Cambewarra',\n",
       " 'Mount Wilson',\n",
       " 'Bulahdelah',\n",
       " 'Forest Grove',\n",
       " 'Chilcotts Grass',\n",
       " 'Ironbark',\n",
       " 'Coila',\n",
       " 'Swanbrook',\n",
       " 'Nulkaba',\n",
       " 'Grassy Head',\n",
       " 'Primrose Valley',\n",
       " 'Sapphire',\n",
       " 'Worrowing Heights',\n",
       " 'Doyalson',\n",
       " 'Waterloo',\n",
       " 'Silverwater',\n",
       " 'Murrumburrah',\n",
       " 'Bungwahl',\n",
       " 'Hillston',\n",
       " 'Nundle',\n",
       " 'Kundle Kundle',\n",
       " 'Box Hill',\n",
       " 'Ladysmith',\n",
       " 'Carcalgong',\n",
       " 'Sun Valley',\n",
       " 'Urangeline East',\n",
       " 'Quidong',\n",
       " 'Moonee Beach',\n",
       " 'Euabalong West',\n",
       " 'Bundella',\n",
       " 'Wean',\n",
       " 'Arkstone',\n",
       " 'Budden',\n",
       " 'Bigga',\n",
       " 'Teven',\n",
       " 'Carrabolla',\n",
       " 'Frederickton',\n",
       " 'Woolooma',\n",
       " 'Brighton-le-sands',\n",
       " 'South Maitland',\n",
       " 'Ournie',\n",
       " 'Mascot',\n",
       " 'Bland',\n",
       " 'Thredbo',\n",
       " 'Martins Creek',\n",
       " 'Wambool',\n",
       " 'Horsley Park',\n",
       " 'South Gundurimba',\n",
       " 'Bungonia',\n",
       " 'Lowesdale',\n",
       " 'Murrami',\n",
       " 'Fords Bridge']"
      ]
     },
     "execution_count": 9,
     "metadata": {},
     "output_type": "execute_result"
    }
   ],
   "source": [
    "value_list = list(set(list_sub))\n",
    "value_list"
   ]
  },
  {
   "cell_type": "code",
   "execution_count": 10,
   "metadata": {},
   "outputs": [],
   "source": [
    "bool_val = ~df.suburb.isin(value_list)"
   ]
  },
  {
   "cell_type": "code",
   "execution_count": 11,
   "metadata": {},
   "outputs": [],
   "source": [
    "df2 = df[bool_val]"
   ]
  },
  {
   "cell_type": "code",
   "execution_count": 12,
   "metadata": {},
   "outputs": [
    {
     "data": {
      "text/plain": [
       "Marsfield           40\n",
       "Shortland           40\n",
       "Fairfield West      40\n",
       "Kingscliff          40\n",
       "Merewether          40\n",
       "Allambie Heights    40\n",
       "Quakers Hill        40\n",
       "Edgeworth           40\n",
       "Woy Woy             40\n",
       "Alexandria          40\n",
       "Bathurst            40\n",
       "Yagoona             40\n",
       "Name: suburb, dtype: int64"
      ]
     },
     "execution_count": 12,
     "metadata": {},
     "output_type": "execute_result"
    }
   ],
   "source": [
    "df2['suburb'].value_counts()"
   ]
  },
  {
   "cell_type": "code",
   "execution_count": 13,
   "metadata": {},
   "outputs": [],
   "source": [
    "df2 = df2.replace('NaN',np.nan)"
   ]
  },
  {
   "cell_type": "code",
   "execution_count": 14,
   "metadata": {},
   "outputs": [
    {
     "data": {
      "text/plain": [
       "year                        0\n",
       "month                       0\n",
       "suburb                      0\n",
       "medianSoldPrice             0\n",
       "numberSold                  0\n",
       "highestSoldPrice            0\n",
       "lowestSoldPrice             6\n",
       "medianSaleListingPrice     12\n",
       "numberSaleListing           0\n",
       "highestSaleListingPrice     3\n",
       "lowestSaleListingPrice      0\n",
       "auctionNumberAuctioned     49\n",
       "auctionNumberSold          73\n",
       "medianRentListingPrice      1\n",
       "dtype: int64"
      ]
     },
     "execution_count": 14,
     "metadata": {},
     "output_type": "execute_result"
    }
   ],
   "source": [
    "df2.isnull().sum()"
   ]
  },
  {
   "cell_type": "code",
   "execution_count": 15,
   "metadata": {},
   "outputs": [],
   "source": [
    "# Check no nulls\n",
    "# df2[df2['suburb'] == 'Rock Flat']"
   ]
  },
  {
   "cell_type": "code",
   "execution_count": 16,
   "metadata": {},
   "outputs": [],
   "source": [
    "df2.drop(['lowestSoldPrice','medianSaleListingPrice'], axis=1, inplace=True)"
   ]
  },
  {
   "cell_type": "code",
   "execution_count": 17,
   "metadata": {},
   "outputs": [
    {
     "name": "stdout",
     "output_type": "stream",
     "text": [
      "<class 'pandas.core.frame.DataFrame'>\n",
      "Int64Index: 480 entries, 240 to 2639\n",
      "Data columns (total 12 columns):\n",
      " #   Column                   Non-Null Count  Dtype  \n",
      "---  ------                   --------------  -----  \n",
      " 0   year                     480 non-null    float64\n",
      " 1   month                    480 non-null    float64\n",
      " 2   suburb                   480 non-null    object \n",
      " 3   medianSoldPrice          480 non-null    float64\n",
      " 4   numberSold               480 non-null    float64\n",
      " 5   highestSoldPrice         480 non-null    float64\n",
      " 6   numberSaleListing        480 non-null    float64\n",
      " 7   highestSaleListingPrice  477 non-null    float64\n",
      " 8   lowestSaleListingPrice   480 non-null    float64\n",
      " 9   auctionNumberAuctioned   431 non-null    float64\n",
      " 10  auctionNumberSold        407 non-null    float64\n",
      " 11  medianRentListingPrice   479 non-null    float64\n",
      "dtypes: float64(11), object(1)\n",
      "memory usage: 48.8+ KB\n"
     ]
    }
   ],
   "source": [
    "df2.info()"
   ]
  },
  {
   "cell_type": "markdown",
   "metadata": {},
   "source": [
    "## Write DataFrame to csv"
   ]
  },
  {
   "cell_type": "code",
   "execution_count": 18,
   "metadata": {},
   "outputs": [],
   "source": [
    "# df2.to_csv(\"Resources/clean_suburbs_1.csv\", index=False)\n",
    "# df2.to_csv(\"Resources/clean_suburbs_2.csv\", index=False)\n",
    "# df2.to_csv(\"Resources/clean_suburbs_3.csv\", index=False)\n",
    "# df2.to_csv(\"Resources/clean_suburbs_4.csv\", index=False)\n",
    "# df2.to_csv(\"Resources/clean_suburbs_5.csv\", index=False)"
   ]
  },
  {
   "cell_type": "markdown",
   "metadata": {},
   "source": [
    "## Concatenate Exported csv files into one DataFrame"
   ]
  },
  {
   "cell_type": "code",
   "execution_count": 19,
   "metadata": {},
   "outputs": [
    {
     "data": {
      "text/html": [
       "<div>\n",
       "<style scoped>\n",
       "    .dataframe tbody tr th:only-of-type {\n",
       "        vertical-align: middle;\n",
       "    }\n",
       "\n",
       "    .dataframe tbody tr th {\n",
       "        vertical-align: top;\n",
       "    }\n",
       "\n",
       "    .dataframe thead th {\n",
       "        text-align: right;\n",
       "    }\n",
       "</style>\n",
       "<table border=\"1\" class=\"dataframe\">\n",
       "  <thead>\n",
       "    <tr style=\"text-align: right;\">\n",
       "      <th></th>\n",
       "      <th>year</th>\n",
       "      <th>month</th>\n",
       "      <th>suburb</th>\n",
       "      <th>medianSoldPrice</th>\n",
       "      <th>numberSold</th>\n",
       "      <th>highestSoldPrice</th>\n",
       "      <th>numberSaleListing</th>\n",
       "      <th>highestSaleListingPrice</th>\n",
       "      <th>lowestSaleListingPrice</th>\n",
       "      <th>auctionNumberAuctioned</th>\n",
       "      <th>auctionNumberSold</th>\n",
       "      <th>medianRentListingPrice</th>\n",
       "    </tr>\n",
       "  </thead>\n",
       "  <tbody>\n",
       "    <tr>\n",
       "      <th>0</th>\n",
       "      <td>2011.0</td>\n",
       "      <td>8.0</td>\n",
       "      <td>Randwick</td>\n",
       "      <td>1422000.0</td>\n",
       "      <td>40.0</td>\n",
       "      <td>5450000.0</td>\n",
       "      <td>81.0</td>\n",
       "      <td>8000000.0</td>\n",
       "      <td>775000.0</td>\n",
       "      <td>32.0</td>\n",
       "      <td>20.0</td>\n",
       "      <td>950.0</td>\n",
       "    </tr>\n",
       "    <tr>\n",
       "      <th>1</th>\n",
       "      <td>2011.0</td>\n",
       "      <td>11.0</td>\n",
       "      <td>Randwick</td>\n",
       "      <td>1417000.0</td>\n",
       "      <td>49.0</td>\n",
       "      <td>3660000.0</td>\n",
       "      <td>97.0</td>\n",
       "      <td>6000000.0</td>\n",
       "      <td>700000.0</td>\n",
       "      <td>47.0</td>\n",
       "      <td>23.0</td>\n",
       "      <td>880.0</td>\n",
       "    </tr>\n",
       "    <tr>\n",
       "      <th>2</th>\n",
       "      <td>2012.0</td>\n",
       "      <td>2.0</td>\n",
       "      <td>Randwick</td>\n",
       "      <td>1520000.0</td>\n",
       "      <td>24.0</td>\n",
       "      <td>6200000.0</td>\n",
       "      <td>62.0</td>\n",
       "      <td>5850000.0</td>\n",
       "      <td>570000.0</td>\n",
       "      <td>10.0</td>\n",
       "      <td>5.0</td>\n",
       "      <td>975.0</td>\n",
       "    </tr>\n",
       "    <tr>\n",
       "      <th>3</th>\n",
       "      <td>2012.0</td>\n",
       "      <td>5.0</td>\n",
       "      <td>Randwick</td>\n",
       "      <td>1555000.0</td>\n",
       "      <td>44.0</td>\n",
       "      <td>3325000.0</td>\n",
       "      <td>77.0</td>\n",
       "      <td>3590000.0</td>\n",
       "      <td>570000.0</td>\n",
       "      <td>30.0</td>\n",
       "      <td>17.0</td>\n",
       "      <td>850.0</td>\n",
       "    </tr>\n",
       "    <tr>\n",
       "      <th>4</th>\n",
       "      <td>2012.0</td>\n",
       "      <td>8.0</td>\n",
       "      <td>Randwick</td>\n",
       "      <td>1385000.0</td>\n",
       "      <td>27.0</td>\n",
       "      <td>3050000.0</td>\n",
       "      <td>57.0</td>\n",
       "      <td>4250000.0</td>\n",
       "      <td>650000.0</td>\n",
       "      <td>19.0</td>\n",
       "      <td>11.0</td>\n",
       "      <td>825.0</td>\n",
       "    </tr>\n",
       "    <tr>\n",
       "      <th>...</th>\n",
       "      <td>...</td>\n",
       "      <td>...</td>\n",
       "      <td>...</td>\n",
       "      <td>...</td>\n",
       "      <td>...</td>\n",
       "      <td>...</td>\n",
       "      <td>...</td>\n",
       "      <td>...</td>\n",
       "      <td>...</td>\n",
       "      <td>...</td>\n",
       "      <td>...</td>\n",
       "      <td>...</td>\n",
       "    </tr>\n",
       "    <tr>\n",
       "      <th>2115</th>\n",
       "      <td>2020.0</td>\n",
       "      <td>6.0</td>\n",
       "      <td>Woy Woy</td>\n",
       "      <td>630000.0</td>\n",
       "      <td>46.0</td>\n",
       "      <td>1100000.0</td>\n",
       "      <td>159.0</td>\n",
       "      <td>1750000.0</td>\n",
       "      <td>350000.0</td>\n",
       "      <td>8.0</td>\n",
       "      <td>3.0</td>\n",
       "      <td>415.0</td>\n",
       "    </tr>\n",
       "    <tr>\n",
       "      <th>2116</th>\n",
       "      <td>2020.0</td>\n",
       "      <td>9.0</td>\n",
       "      <td>Woy Woy</td>\n",
       "      <td>645000.0</td>\n",
       "      <td>67.0</td>\n",
       "      <td>2000000.0</td>\n",
       "      <td>118.0</td>\n",
       "      <td>1600000.0</td>\n",
       "      <td>375000.0</td>\n",
       "      <td>8.0</td>\n",
       "      <td>4.0</td>\n",
       "      <td>410.0</td>\n",
       "    </tr>\n",
       "    <tr>\n",
       "      <th>2117</th>\n",
       "      <td>2020.0</td>\n",
       "      <td>12.0</td>\n",
       "      <td>Woy Woy</td>\n",
       "      <td>660000.0</td>\n",
       "      <td>68.0</td>\n",
       "      <td>1510000.0</td>\n",
       "      <td>103.0</td>\n",
       "      <td>4500000.0</td>\n",
       "      <td>60000.0</td>\n",
       "      <td>7.0</td>\n",
       "      <td>4.0</td>\n",
       "      <td>450.0</td>\n",
       "    </tr>\n",
       "    <tr>\n",
       "      <th>2118</th>\n",
       "      <td>2021.0</td>\n",
       "      <td>3.0</td>\n",
       "      <td>Woy Woy</td>\n",
       "      <td>750000.0</td>\n",
       "      <td>80.0</td>\n",
       "      <td>1710000.0</td>\n",
       "      <td>97.0</td>\n",
       "      <td>4500000.0</td>\n",
       "      <td>60000.0</td>\n",
       "      <td>8.0</td>\n",
       "      <td>6.0</td>\n",
       "      <td>450.0</td>\n",
       "    </tr>\n",
       "    <tr>\n",
       "      <th>2119</th>\n",
       "      <td>2021.0</td>\n",
       "      <td>6.0</td>\n",
       "      <td>Woy Woy</td>\n",
       "      <td>841000.0</td>\n",
       "      <td>60.0</td>\n",
       "      <td>1950000.0</td>\n",
       "      <td>84.0</td>\n",
       "      <td>4500000.0</td>\n",
       "      <td>475000.0</td>\n",
       "      <td>12.0</td>\n",
       "      <td>6.0</td>\n",
       "      <td>470.0</td>\n",
       "    </tr>\n",
       "  </tbody>\n",
       "</table>\n",
       "<p>4240 rows × 12 columns</p>\n",
       "</div>"
      ],
      "text/plain": [
       "        year  month    suburb  medianSoldPrice  numberSold  highestSoldPrice  \\\n",
       "0     2011.0    8.0  Randwick        1422000.0        40.0         5450000.0   \n",
       "1     2011.0   11.0  Randwick        1417000.0        49.0         3660000.0   \n",
       "2     2012.0    2.0  Randwick        1520000.0        24.0         6200000.0   \n",
       "3     2012.0    5.0  Randwick        1555000.0        44.0         3325000.0   \n",
       "4     2012.0    8.0  Randwick        1385000.0        27.0         3050000.0   \n",
       "...      ...    ...       ...              ...         ...               ...   \n",
       "2115  2020.0    6.0   Woy Woy         630000.0        46.0         1100000.0   \n",
       "2116  2020.0    9.0   Woy Woy         645000.0        67.0         2000000.0   \n",
       "2117  2020.0   12.0   Woy Woy         660000.0        68.0         1510000.0   \n",
       "2118  2021.0    3.0   Woy Woy         750000.0        80.0         1710000.0   \n",
       "2119  2021.0    6.0   Woy Woy         841000.0        60.0         1950000.0   \n",
       "\n",
       "      numberSaleListing  highestSaleListingPrice  lowestSaleListingPrice  \\\n",
       "0                  81.0                8000000.0                775000.0   \n",
       "1                  97.0                6000000.0                700000.0   \n",
       "2                  62.0                5850000.0                570000.0   \n",
       "3                  77.0                3590000.0                570000.0   \n",
       "4                  57.0                4250000.0                650000.0   \n",
       "...                 ...                      ...                     ...   \n",
       "2115              159.0                1750000.0                350000.0   \n",
       "2116              118.0                1600000.0                375000.0   \n",
       "2117              103.0                4500000.0                 60000.0   \n",
       "2118               97.0                4500000.0                 60000.0   \n",
       "2119               84.0                4500000.0                475000.0   \n",
       "\n",
       "      auctionNumberAuctioned  auctionNumberSold  medianRentListingPrice  \n",
       "0                       32.0               20.0                   950.0  \n",
       "1                       47.0               23.0                   880.0  \n",
       "2                       10.0                5.0                   975.0  \n",
       "3                       30.0               17.0                   850.0  \n",
       "4                       19.0               11.0                   825.0  \n",
       "...                      ...                ...                     ...  \n",
       "2115                     8.0                3.0                   415.0  \n",
       "2116                     8.0                4.0                   410.0  \n",
       "2117                     7.0                4.0                   450.0  \n",
       "2118                     8.0                6.0                   450.0  \n",
       "2119                    12.0                6.0                   470.0  \n",
       "\n",
       "[4240 rows x 12 columns]"
      ]
     },
     "execution_count": 19,
     "metadata": {},
     "output_type": "execute_result"
    }
   ],
   "source": [
    "# clean_suburbs_all_2=open(\"clean_suburbs_all_2.csv\",\"a\")\n",
    "# # first file:\n",
    "# for line in open(\"Resources/clean_suburbs_1.csv\"):\n",
    "#     clean_suburbs_all_2.write(line)\n",
    "# # now the rest:    \n",
    "# for num in range(2,6):\n",
    "#     f = open(\"Resources/clean_suburbs_\"+str(num)+\".csv\")\n",
    "#     f.next() # skip the header\n",
    "#     for line in f:\n",
    "#          clean_suburbs_all_2.write(line)\n",
    "# #     f.close() # not really needed\n",
    "# clean_suburbs_all_2.close()\n",
    "\n",
    "import os\n",
    "folder='Resources/'\n",
    "dfs=[]\n",
    "new_df=pd.DataFrame()\n",
    "for file in os.listdir(folder):\n",
    "    if 'clean_' in file:\n",
    "        data=pd.read_csv(folder+file)\n",
    "        dfs.append(data)\n",
    "        \n",
    "\n",
    "new_df=pd.concat(dfs)\n",
    "new_df"
   ]
  },
  {
   "cell_type": "code",
   "execution_count": 20,
   "metadata": {},
   "outputs": [
    {
     "data": {
      "text/plain": [
       "year                       float64\n",
       "month                      float64\n",
       "suburb                      object\n",
       "medianSoldPrice            float64\n",
       "numberSold                 float64\n",
       "highestSoldPrice           float64\n",
       "numberSaleListing          float64\n",
       "highestSaleListingPrice    float64\n",
       "lowestSaleListingPrice     float64\n",
       "auctionNumberAuctioned     float64\n",
       "auctionNumberSold          float64\n",
       "medianRentListingPrice     float64\n",
       "dtype: object"
      ]
     },
     "execution_count": 20,
     "metadata": {},
     "output_type": "execute_result"
    }
   ],
   "source": [
    "new_df.dtypes"
   ]
  },
  {
   "cell_type": "markdown",
   "metadata": {},
   "source": [
    "## Write New DataFrame to csv"
   ]
  },
  {
   "cell_type": "code",
   "execution_count": 21,
   "metadata": {},
   "outputs": [],
   "source": [
    "# new_df.to_csv(\"Resources/clean_suburbs_53.csv\", index=False)"
   ]
  },
  {
   "cell_type": "markdown",
   "metadata": {},
   "source": [
    "---"
   ]
  },
  {
   "cell_type": "markdown",
   "metadata": {},
   "source": [
    "## 1. Cleanse Columns"
   ]
  },
  {
   "cell_type": "markdown",
   "metadata": {},
   "source": [
    "### i. Rename Columns"
   ]
  },
  {
   "cell_type": "code",
   "execution_count": 22,
   "metadata": {},
   "outputs": [],
   "source": [
    "# df.columns"
   ]
  },
  {
   "cell_type": "code",
   "execution_count": 23,
   "metadata": {},
   "outputs": [],
   "source": [
    "# columns = ['Year', 'Month', 'Suburb', 'Median_Sale_Price', 'Number_Sold',\n",
    "#        'Highest_Sold_Price', 'Lowest_Sold_Price', 'Median_Sale_Listing_Price',\n",
    "#        'Number_Sale_Listing', 'Highest_Sale_Listing_Price',\n",
    "#        'Lowest_Sale_Listing_Price', 'Auction_Number', 'Auction_Sold',\n",
    "#        'Median_Rent_Listing_Price']\n",
    "# df.columns = columns\n",
    "\n",
    "# df.head()"
   ]
  },
  {
   "cell_type": "markdown",
   "metadata": {},
   "source": [
    "### ii. Re-order Columns"
   ]
  },
  {
   "cell_type": "code",
   "execution_count": 24,
   "metadata": {},
   "outputs": [],
   "source": [
    "# df.columns"
   ]
  },
  {
   "cell_type": "code",
   "execution_count": 25,
   "metadata": {},
   "outputs": [],
   "source": [
    "# df = df[['Suburb', 'Year', 'Month', 'Median_Sale_Price', 'Number_Sold',\n",
    "#        'Highest_Sold_Price', 'Lowest_Sold_Price', 'Median_Sale_Listing_Price',\n",
    "#        'Number_Sale_Listing', 'Highest_Sale_Listing_Price',\n",
    "#        'Lowest_Sale_Listing_Price', 'Auction_Number', 'Auction_Sold',\n",
    "#        'Median_Rent_Listing_Price']]\n",
    "\n",
    "# df.head()"
   ]
  },
  {
   "cell_type": "markdown",
   "metadata": {},
   "source": [
    "### iii. View Column Data Types"
   ]
  },
  {
   "cell_type": "code",
   "execution_count": 26,
   "metadata": {},
   "outputs": [],
   "source": [
    "# Use the `dtypes` attribute to list the column data types\n",
    "\n",
    "# df.dtypes"
   ]
  },
  {
   "cell_type": "markdown",
   "metadata": {},
   "source": [
    "### iv. Drop Extraneous Columns"
   ]
  },
  {
   "cell_type": "code",
   "execution_count": 27,
   "metadata": {},
   "outputs": [],
   "source": [
    "# Use the `drop` function to drop specific columns\n",
    "\n",
    "# df.drop(columns=['column_name'], inplace=True)\n",
    "# df.head()"
   ]
  },
  {
   "cell_type": "markdown",
   "metadata": {},
   "source": [
    "---"
   ]
  },
  {
   "cell_type": "markdown",
   "metadata": {},
   "source": [
    "## 2. Identify Data Quality Issues"
   ]
  },
  {
   "cell_type": "markdown",
   "metadata": {},
   "source": [
    "### i. Identify the Number of Rows"
   ]
  },
  {
   "cell_type": "code",
   "execution_count": 28,
   "metadata": {},
   "outputs": [
    {
     "data": {
      "text/plain": [
       "year                       3000\n",
       "month                      3000\n",
       "suburb                     3000\n",
       "medianSoldPrice            3000\n",
       "numberSold                 3000\n",
       "highestSoldPrice           3000\n",
       "lowestSoldPrice            3000\n",
       "medianSaleListingPrice     3000\n",
       "numberSaleListing          3000\n",
       "highestSaleListingPrice    3000\n",
       "lowestSaleListingPrice     3000\n",
       "auctionNumberAuctioned     3000\n",
       "auctionNumberSold          3000\n",
       "medianRentListingPrice     3000\n",
       "dtype: int64"
      ]
     },
     "execution_count": 28,
     "metadata": {},
     "output_type": "execute_result"
    }
   ],
   "source": [
    "# Use the `count` function to view count of non-null values for each column\n",
    "\n",
    "df.count()"
   ]
  },
  {
   "cell_type": "markdown",
   "metadata": {},
   "source": [
    "### ii. Identify Frequency Counts of a Specific Column"
   ]
  },
  {
   "cell_type": "code",
   "execution_count": 29,
   "metadata": {},
   "outputs": [],
   "source": [
    "# Identifying frequency counts of the `column_name` column\n",
    "\n",
    "# df['column_name'].value_counts()\n",
    "# df.isna()\n",
    "# # df[df.isna()]\n",
    "\n",
    "# df=df.dropna(subset=[\"Number_Sold\"])\n",
    "# df[df['Suburb']== \"St Leonards\"]"
   ]
  },
  {
   "cell_type": "markdown",
   "metadata": {},
   "source": [
    "### iii. Identify Null Values"
   ]
  },
  {
   "cell_type": "code",
   "execution_count": 30,
   "metadata": {},
   "outputs": [],
   "source": [
    "# Checking for null\n",
    "# df.isnull()\n",
    "\n",
    "# False==0"
   ]
  },
  {
   "cell_type": "markdown",
   "metadata": {},
   "source": [
    "### iv. Determine the Number of Nulls"
   ]
  },
  {
   "cell_type": "code",
   "execution_count": 31,
   "metadata": {},
   "outputs": [],
   "source": [
    "# Determining number of nulls\n",
    "\n",
    "# df.isnull().sum()"
   ]
  },
  {
   "cell_type": "markdown",
   "metadata": {},
   "source": [
    "### v. Determining the Percentage of Nulls for each Column"
   ]
  },
  {
   "cell_type": "code",
   "execution_count": 32,
   "metadata": {},
   "outputs": [],
   "source": [
    "# Determining percentage of nulls\n",
    "\n",
    "# df.isnull().sum() / len(df) * 100"
   ]
  },
  {
   "cell_type": "markdown",
   "metadata": {},
   "source": [
    "### vi. Check for Duplicate Rows"
   ]
  },
  {
   "cell_type": "code",
   "execution_count": 33,
   "metadata": {},
   "outputs": [],
   "source": [
    "# Use the `duplicated` function to determine the existance of duplicate rows: True or False\n",
    "\n",
    "# df.duplicated()"
   ]
  },
  {
   "cell_type": "markdown",
   "metadata": {},
   "source": [
    "### vii. Check for Duplicate `column_name` Values"
   ]
  },
  {
   "cell_type": "code",
   "execution_count": 34,
   "metadata": {},
   "outputs": [],
   "source": [
    "# Use the `duplicated` function in conjunction with a list of columns to determine the existence of duplicate rows based on the selected columns\n",
    "\n",
    "# df[['column_name', 'column2_name']].duplicated()"
   ]
  },
  {
   "cell_type": "markdown",
   "metadata": {},
   "source": [
    "---"
   ]
  },
  {
   "cell_type": "markdown",
   "metadata": {},
   "source": [
    "## 3. Resolve Data Quality Issues"
   ]
  },
  {
   "cell_type": "markdown",
   "metadata": {},
   "source": [
    "### Decide what to do with Nulls, options: fillna, dropna, "
   ]
  },
  {
   "cell_type": "markdown",
   "metadata": {},
   "source": [
    "### i. Fill column_name and column_name2 Null Values with Default Value \"new_value_name\""
   ]
  },
  {
   "cell_type": "code",
   "execution_count": 35,
   "metadata": {},
   "outputs": [],
   "source": [
    "# Cleanse nulls from DataFrame by filling nulls\n",
    "\n",
    "# df['column_name'] = df['column_name'].fillna(\"new_value_name\")\n",
    "# df['column_name2'] = people_df['column_name2'].fillna(\"new_value_name\")\n",
    "# df"
   ]
  },
  {
   "cell_type": "markdown",
   "metadata": {},
   "source": [
    "### ii. Drop Remaining Records with Nulls from DataFrame"
   ]
  },
  {
   "cell_type": "code",
   "execution_count": 36,
   "metadata": {},
   "outputs": [],
   "source": [
    "# Use the `dropna` function to drop whole records that have at least one null value\n",
    "\n",
    "# df.dropna(inplace=True)\n",
    "# df"
   ]
  },
  {
   "cell_type": "markdown",
   "metadata": {},
   "source": [
    "### iii. Check Null Counts for Each Column (Again)"
   ]
  },
  {
   "cell_type": "code",
   "execution_count": 37,
   "metadata": {},
   "outputs": [],
   "source": [
    "# Use the `isnull` function in conjunction with the `sum` function to count the number of null values for each column\n",
    "\n",
    "# df.isnull().sum()"
   ]
  },
  {
   "cell_type": "markdown",
   "metadata": {},
   "source": [
    "### iv. Cleanse data by Dropping Duplicates"
   ]
  },
  {
   "cell_type": "code",
   "execution_count": 38,
   "metadata": {},
   "outputs": [],
   "source": [
    "# Use the `drop_duplicates` function with the `subset` parameter to drop duplicates based on a selection of columns\n",
    "\n",
    "# df.drop_duplicates(subset=['column_name', 'column_name2'])"
   ]
  },
  {
   "cell_type": "markdown",
   "metadata": {},
   "source": [
    "### v. Convert Columns to Different DataTypes"
   ]
  },
  {
   "cell_type": "code",
   "execution_count": 39,
   "metadata": {},
   "outputs": [],
   "source": [
    "# Use the `as_type` function to convert `column_name` from `float` to `int` for example\n",
    "\n",
    "# df['column_name'] = df['column_name'].astype('int')\n",
    "# df"
   ]
  },
  {
   "cell_type": "markdown",
   "metadata": {},
   "source": [
    "---"
   ]
  },
  {
   "cell_type": "markdown",
   "metadata": {},
   "source": [
    "# 4. Save Cleansed Data to New CSV"
   ]
  },
  {
   "cell_type": "code",
   "execution_count": 40,
   "metadata": {},
   "outputs": [],
   "source": [
    "# Save modified DataFrame to the Resources folder. Use the `index` parameter set to `False` to exclude saving the index.\n",
    "\n",
    "# df.to_csv(\"../Resources/df_cleansed.csv\", index=False)"
   ]
  }
 ],
 "metadata": {
  "kernelspec": {
   "display_name": "dev",
   "language": "python",
   "name": "dev"
  },
  "language_info": {
   "codemirror_mode": {
    "name": "ipython",
    "version": 3
   },
   "file_extension": ".py",
   "mimetype": "text/x-python",
   "name": "python",
   "nbconvert_exporter": "python",
   "pygments_lexer": "ipython3",
   "version": "3.7.10"
  }
 },
 "nbformat": 4,
 "nbformat_minor": 4
}
