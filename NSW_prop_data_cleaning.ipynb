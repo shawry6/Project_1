{
 "cells": [
  {
   "cell_type": "markdown",
   "metadata": {},
   "source": [
    "# Cleaning Data in Pandas DataFrames"
   ]
  },
  {
   "cell_type": "markdown",
   "metadata": {},
   "source": [
    "## 1. Import libraries and dependencies"
   ]
  },
  {
   "cell_type": "code",
   "execution_count": 1,
   "metadata": {},
   "outputs": [],
   "source": [
    "# Import the pandas and pathlib libraries\n",
    "import pandas as pd\n",
    "from pathlib import Path"
   ]
  },
  {
   "cell_type": "markdown",
   "metadata": {},
   "source": [
    "## 2. Create a Path to the File Using Pathlib"
   ]
  },
  {
   "cell_type": "code",
   "execution_count": 5,
   "metadata": {},
   "outputs": [],
   "source": [
    "# Use the Pathlib libary to set the path to the CSV\n",
    "csv_path = Path(\"Resources/data.csv\")"
   ]
  },
  {
   "cell_type": "markdown",
   "metadata": {},
   "source": [
    "## 3. Read the CSV into a Pandas DataFrame"
   ]
  },
  {
   "cell_type": "code",
   "execution_count": 6,
   "metadata": {},
   "outputs": [
    {
     "data": {
      "text/html": [
       "<div>\n",
       "<style scoped>\n",
       "    .dataframe tbody tr th:only-of-type {\n",
       "        vertical-align: middle;\n",
       "    }\n",
       "\n",
       "    .dataframe tbody tr th {\n",
       "        vertical-align: top;\n",
       "    }\n",
       "\n",
       "    .dataframe thead th {\n",
       "        text-align: right;\n",
       "    }\n",
       "</style>\n",
       "<table border=\"1\" class=\"dataframe\">\n",
       "  <thead>\n",
       "    <tr style=\"text-align: right;\">\n",
       "      <th></th>\n",
       "      <th>year</th>\n",
       "      <th>month</th>\n",
       "      <th>suburb</th>\n",
       "      <th>medianSoldPrice</th>\n",
       "      <th>numberSold</th>\n",
       "      <th>highestSoldPrice</th>\n",
       "      <th>lowestSoldPrice</th>\n",
       "      <th>medianSaleListingPrice</th>\n",
       "      <th>numberSaleListing</th>\n",
       "      <th>highestSaleListingPrice</th>\n",
       "      <th>lowestSaleListingPrice</th>\n",
       "      <th>auctionNumberAuctioned</th>\n",
       "      <th>auctionNumberSold</th>\n",
       "      <th>medianRentListingPrice</th>\n",
       "    </tr>\n",
       "  </thead>\n",
       "  <tbody>\n",
       "    <tr>\n",
       "      <th>0</th>\n",
       "      <td>2011.0</td>\n",
       "      <td>8.0</td>\n",
       "      <td>Randwick</td>\n",
       "      <td>1422000.0</td>\n",
       "      <td>40.0</td>\n",
       "      <td>5450000.0</td>\n",
       "      <td>690000.0</td>\n",
       "      <td>1578000.0</td>\n",
       "      <td>81.0</td>\n",
       "      <td>8000000.0</td>\n",
       "      <td>775000.0</td>\n",
       "      <td>32.0</td>\n",
       "      <td>20.0</td>\n",
       "      <td>950.0</td>\n",
       "    </tr>\n",
       "    <tr>\n",
       "      <th>1</th>\n",
       "      <td>2011.0</td>\n",
       "      <td>11.0</td>\n",
       "      <td>Randwick</td>\n",
       "      <td>1417000.0</td>\n",
       "      <td>49.0</td>\n",
       "      <td>3660000.0</td>\n",
       "      <td>880000.0</td>\n",
       "      <td>1600000.0</td>\n",
       "      <td>97.0</td>\n",
       "      <td>6000000.0</td>\n",
       "      <td>700000.0</td>\n",
       "      <td>47.0</td>\n",
       "      <td>23.0</td>\n",
       "      <td>880.0</td>\n",
       "    </tr>\n",
       "    <tr>\n",
       "      <th>2</th>\n",
       "      <td>2012.0</td>\n",
       "      <td>2.0</td>\n",
       "      <td>Randwick</td>\n",
       "      <td>1520000.0</td>\n",
       "      <td>24.0</td>\n",
       "      <td>6200000.0</td>\n",
       "      <td>890000.0</td>\n",
       "      <td>1600000.0</td>\n",
       "      <td>62.0</td>\n",
       "      <td>5850000.0</td>\n",
       "      <td>570000.0</td>\n",
       "      <td>10.0</td>\n",
       "      <td>5.0</td>\n",
       "      <td>975.0</td>\n",
       "    </tr>\n",
       "    <tr>\n",
       "      <th>3</th>\n",
       "      <td>2012.0</td>\n",
       "      <td>5.0</td>\n",
       "      <td>Randwick</td>\n",
       "      <td>1555000.0</td>\n",
       "      <td>44.0</td>\n",
       "      <td>3325000.0</td>\n",
       "      <td>565000.0</td>\n",
       "      <td>1550000.0</td>\n",
       "      <td>77.0</td>\n",
       "      <td>3590000.0</td>\n",
       "      <td>570000.0</td>\n",
       "      <td>30.0</td>\n",
       "      <td>17.0</td>\n",
       "      <td>850.0</td>\n",
       "    </tr>\n",
       "    <tr>\n",
       "      <th>4</th>\n",
       "      <td>2012.0</td>\n",
       "      <td>8.0</td>\n",
       "      <td>Randwick</td>\n",
       "      <td>1385000.0</td>\n",
       "      <td>27.0</td>\n",
       "      <td>3050000.0</td>\n",
       "      <td>703000.0</td>\n",
       "      <td>1500000.0</td>\n",
       "      <td>57.0</td>\n",
       "      <td>4250000.0</td>\n",
       "      <td>650000.0</td>\n",
       "      <td>19.0</td>\n",
       "      <td>11.0</td>\n",
       "      <td>825.0</td>\n",
       "    </tr>\n",
       "  </tbody>\n",
       "</table>\n",
       "</div>"
      ],
      "text/plain": [
       "     year  month    suburb  medianSoldPrice  numberSold  highestSoldPrice  \\\n",
       "0  2011.0    8.0  Randwick        1422000.0        40.0         5450000.0   \n",
       "1  2011.0   11.0  Randwick        1417000.0        49.0         3660000.0   \n",
       "2  2012.0    2.0  Randwick        1520000.0        24.0         6200000.0   \n",
       "3  2012.0    5.0  Randwick        1555000.0        44.0         3325000.0   \n",
       "4  2012.0    8.0  Randwick        1385000.0        27.0         3050000.0   \n",
       "\n",
       "   lowestSoldPrice  medianSaleListingPrice  numberSaleListing  \\\n",
       "0         690000.0               1578000.0               81.0   \n",
       "1         880000.0               1600000.0               97.0   \n",
       "2         890000.0               1600000.0               62.0   \n",
       "3         565000.0               1550000.0               77.0   \n",
       "4         703000.0               1500000.0               57.0   \n",
       "\n",
       "   highestSaleListingPrice  lowestSaleListingPrice  auctionNumberAuctioned  \\\n",
       "0                8000000.0                775000.0                    32.0   \n",
       "1                6000000.0                700000.0                    47.0   \n",
       "2                5850000.0                570000.0                    10.0   \n",
       "3                3590000.0                570000.0                    30.0   \n",
       "4                4250000.0                650000.0                    19.0   \n",
       "\n",
       "   auctionNumberSold  medianRentListingPrice  \n",
       "0               20.0                   950.0  \n",
       "1               23.0                   880.0  \n",
       "2                5.0                   975.0  \n",
       "3               17.0                   850.0  \n",
       "4               11.0                   825.0  "
      ]
     },
     "execution_count": 6,
     "metadata": {},
     "output_type": "execute_result"
    }
   ],
   "source": [
    "# Use the file path to read the CSV into a DataFrame and display a few rows\n",
    "nsw_prop_df = pd.read_csv(csv_path)\n",
    "nsw_prop_df.head()"
   ]
  },
  {
   "cell_type": "markdown",
   "metadata": {},
   "source": [
    "## 4. Rename Columns"
   ]
  },
  {
   "cell_type": "code",
   "execution_count": 8,
   "metadata": {},
   "outputs": [
    {
     "data": {
      "text/plain": [
       "Index(['year', 'month', 'suburb', 'medianSoldPrice', 'numberSold',\n",
       "       'highestSoldPrice', 'lowestSoldPrice', 'medianSaleListingPrice',\n",
       "       'numberSaleListing', 'highestSaleListingPrice',\n",
       "       'lowestSaleListingPrice', 'auctionNumberAuctioned', 'auctionNumberSold',\n",
       "       'medianRentListingPrice'],\n",
       "      dtype='object')"
      ]
     },
     "execution_count": 8,
     "metadata": {},
     "output_type": "execute_result"
    }
   ],
   "source": [
    "nsw_prop_df.columns"
   ]
  },
  {
   "cell_type": "code",
   "execution_count": 9,
   "metadata": {},
   "outputs": [
    {
     "data": {
      "text/html": [
       "<div>\n",
       "<style scoped>\n",
       "    .dataframe tbody tr th:only-of-type {\n",
       "        vertical-align: middle;\n",
       "    }\n",
       "\n",
       "    .dataframe tbody tr th {\n",
       "        vertical-align: top;\n",
       "    }\n",
       "\n",
       "    .dataframe thead th {\n",
       "        text-align: right;\n",
       "    }\n",
       "</style>\n",
       "<table border=\"1\" class=\"dataframe\">\n",
       "  <thead>\n",
       "    <tr style=\"text-align: right;\">\n",
       "      <th></th>\n",
       "      <th>Year</th>\n",
       "      <th>Month</th>\n",
       "      <th>Suburb</th>\n",
       "      <th>Median_Sale_Price</th>\n",
       "      <th>Number_Sold</th>\n",
       "      <th>Highest_Sold_Price</th>\n",
       "      <th>Lowest_Sold_Price</th>\n",
       "      <th>Median_Sale_Listing_Price</th>\n",
       "      <th>Number_Sale_Listing</th>\n",
       "      <th>Highest_Sale_Listing_Price</th>\n",
       "      <th>Lowest_Sale_Listing_Price</th>\n",
       "      <th>Auction_Number</th>\n",
       "      <th>Auction_Sold</th>\n",
       "      <th>Median_Rent_Listing_Price</th>\n",
       "    </tr>\n",
       "  </thead>\n",
       "  <tbody>\n",
       "    <tr>\n",
       "      <th>0</th>\n",
       "      <td>2011.0</td>\n",
       "      <td>8.0</td>\n",
       "      <td>Randwick</td>\n",
       "      <td>1422000.0</td>\n",
       "      <td>40.0</td>\n",
       "      <td>5450000.0</td>\n",
       "      <td>690000.0</td>\n",
       "      <td>1578000.0</td>\n",
       "      <td>81.0</td>\n",
       "      <td>8000000.0</td>\n",
       "      <td>775000.0</td>\n",
       "      <td>32.0</td>\n",
       "      <td>20.0</td>\n",
       "      <td>950.0</td>\n",
       "    </tr>\n",
       "    <tr>\n",
       "      <th>1</th>\n",
       "      <td>2011.0</td>\n",
       "      <td>11.0</td>\n",
       "      <td>Randwick</td>\n",
       "      <td>1417000.0</td>\n",
       "      <td>49.0</td>\n",
       "      <td>3660000.0</td>\n",
       "      <td>880000.0</td>\n",
       "      <td>1600000.0</td>\n",
       "      <td>97.0</td>\n",
       "      <td>6000000.0</td>\n",
       "      <td>700000.0</td>\n",
       "      <td>47.0</td>\n",
       "      <td>23.0</td>\n",
       "      <td>880.0</td>\n",
       "    </tr>\n",
       "    <tr>\n",
       "      <th>2</th>\n",
       "      <td>2012.0</td>\n",
       "      <td>2.0</td>\n",
       "      <td>Randwick</td>\n",
       "      <td>1520000.0</td>\n",
       "      <td>24.0</td>\n",
       "      <td>6200000.0</td>\n",
       "      <td>890000.0</td>\n",
       "      <td>1600000.0</td>\n",
       "      <td>62.0</td>\n",
       "      <td>5850000.0</td>\n",
       "      <td>570000.0</td>\n",
       "      <td>10.0</td>\n",
       "      <td>5.0</td>\n",
       "      <td>975.0</td>\n",
       "    </tr>\n",
       "    <tr>\n",
       "      <th>3</th>\n",
       "      <td>2012.0</td>\n",
       "      <td>5.0</td>\n",
       "      <td>Randwick</td>\n",
       "      <td>1555000.0</td>\n",
       "      <td>44.0</td>\n",
       "      <td>3325000.0</td>\n",
       "      <td>565000.0</td>\n",
       "      <td>1550000.0</td>\n",
       "      <td>77.0</td>\n",
       "      <td>3590000.0</td>\n",
       "      <td>570000.0</td>\n",
       "      <td>30.0</td>\n",
       "      <td>17.0</td>\n",
       "      <td>850.0</td>\n",
       "    </tr>\n",
       "    <tr>\n",
       "      <th>4</th>\n",
       "      <td>2012.0</td>\n",
       "      <td>8.0</td>\n",
       "      <td>Randwick</td>\n",
       "      <td>1385000.0</td>\n",
       "      <td>27.0</td>\n",
       "      <td>3050000.0</td>\n",
       "      <td>703000.0</td>\n",
       "      <td>1500000.0</td>\n",
       "      <td>57.0</td>\n",
       "      <td>4250000.0</td>\n",
       "      <td>650000.0</td>\n",
       "      <td>19.0</td>\n",
       "      <td>11.0</td>\n",
       "      <td>825.0</td>\n",
       "    </tr>\n",
       "  </tbody>\n",
       "</table>\n",
       "</div>"
      ],
      "text/plain": [
       "     Year  Month    Suburb  Median_Sale_Price  Number_Sold  \\\n",
       "0  2011.0    8.0  Randwick          1422000.0         40.0   \n",
       "1  2011.0   11.0  Randwick          1417000.0         49.0   \n",
       "2  2012.0    2.0  Randwick          1520000.0         24.0   \n",
       "3  2012.0    5.0  Randwick          1555000.0         44.0   \n",
       "4  2012.0    8.0  Randwick          1385000.0         27.0   \n",
       "\n",
       "   Highest_Sold_Price  Lowest_Sold_Price  Median_Sale_Listing_Price  \\\n",
       "0           5450000.0           690000.0                  1578000.0   \n",
       "1           3660000.0           880000.0                  1600000.0   \n",
       "2           6200000.0           890000.0                  1600000.0   \n",
       "3           3325000.0           565000.0                  1550000.0   \n",
       "4           3050000.0           703000.0                  1500000.0   \n",
       "\n",
       "   Number_Sale_Listing  Highest_Sale_Listing_Price  Lowest_Sale_Listing_Price  \\\n",
       "0                 81.0                   8000000.0                   775000.0   \n",
       "1                 97.0                   6000000.0                   700000.0   \n",
       "2                 62.0                   5850000.0                   570000.0   \n",
       "3                 77.0                   3590000.0                   570000.0   \n",
       "4                 57.0                   4250000.0                   650000.0   \n",
       "\n",
       "   Auction_Number  Auction_Sold  Median_Rent_Listing_Price  \n",
       "0            32.0          20.0                      950.0  \n",
       "1            47.0          23.0                      880.0  \n",
       "2            10.0           5.0                      975.0  \n",
       "3            30.0          17.0                      850.0  \n",
       "4            19.0          11.0                      825.0  "
      ]
     },
     "execution_count": 9,
     "metadata": {},
     "output_type": "execute_result"
    }
   ],
   "source": [
    "columns = ['Year', 'Month', 'Suburb', 'Median_Sale_Price', 'Number_Sold',\n",
    "       'Highest_Sold_Price', 'Lowest_Sold_Price', 'Median_Sale_Listing_Price',\n",
    "       'Number_Sale_Listing', 'Highest_Sale_Listing_Price',\n",
    "       'Lowest_Sale_Listing_Price', 'Auction_Number', 'Auction_Sold',\n",
    "       'Median_Rent_Listing_Price']\n",
    "nsw_prop_df.columns = columns\n",
    "\n",
    "nsw_prop_df.head()"
   ]
  },
  {
   "cell_type": "markdown",
   "metadata": {},
   "source": [
    "## 5. Re-order Columns"
   ]
  },
  {
   "cell_type": "code",
   "execution_count": 10,
   "metadata": {},
   "outputs": [
    {
     "data": {
      "text/plain": [
       "Index(['Year', 'Month', 'Suburb', 'Median_Sale_Price', 'Number_Sold',\n",
       "       'Highest_Sold_Price', 'Lowest_Sold_Price', 'Median_Sale_Listing_Price',\n",
       "       'Number_Sale_Listing', 'Highest_Sale_Listing_Price',\n",
       "       'Lowest_Sale_Listing_Price', 'Auction_Number', 'Auction_Sold',\n",
       "       'Median_Rent_Listing_Price'],\n",
       "      dtype='object')"
      ]
     },
     "execution_count": 10,
     "metadata": {},
     "output_type": "execute_result"
    }
   ],
   "source": [
    "nsw_prop_df.columns"
   ]
  },
  {
   "cell_type": "code",
   "execution_count": 11,
   "metadata": {},
   "outputs": [
    {
     "data": {
      "text/html": [
       "<div>\n",
       "<style scoped>\n",
       "    .dataframe tbody tr th:only-of-type {\n",
       "        vertical-align: middle;\n",
       "    }\n",
       "\n",
       "    .dataframe tbody tr th {\n",
       "        vertical-align: top;\n",
       "    }\n",
       "\n",
       "    .dataframe thead th {\n",
       "        text-align: right;\n",
       "    }\n",
       "</style>\n",
       "<table border=\"1\" class=\"dataframe\">\n",
       "  <thead>\n",
       "    <tr style=\"text-align: right;\">\n",
       "      <th></th>\n",
       "      <th>Suburb</th>\n",
       "      <th>Year</th>\n",
       "      <th>Month</th>\n",
       "      <th>Median_Sale_Price</th>\n",
       "      <th>Number_Sold</th>\n",
       "      <th>Highest_Sold_Price</th>\n",
       "      <th>Lowest_Sold_Price</th>\n",
       "      <th>Median_Sale_Listing_Price</th>\n",
       "      <th>Number_Sale_Listing</th>\n",
       "      <th>Highest_Sale_Listing_Price</th>\n",
       "      <th>Lowest_Sale_Listing_Price</th>\n",
       "      <th>Auction_Number</th>\n",
       "      <th>Auction_Sold</th>\n",
       "      <th>Median_Rent_Listing_Price</th>\n",
       "    </tr>\n",
       "  </thead>\n",
       "  <tbody>\n",
       "    <tr>\n",
       "      <th>0</th>\n",
       "      <td>Randwick</td>\n",
       "      <td>2011.0</td>\n",
       "      <td>8.0</td>\n",
       "      <td>1422000.0</td>\n",
       "      <td>40.0</td>\n",
       "      <td>5450000.0</td>\n",
       "      <td>690000.0</td>\n",
       "      <td>1578000.0</td>\n",
       "      <td>81.0</td>\n",
       "      <td>8000000.0</td>\n",
       "      <td>775000.0</td>\n",
       "      <td>32.0</td>\n",
       "      <td>20.0</td>\n",
       "      <td>950.0</td>\n",
       "    </tr>\n",
       "    <tr>\n",
       "      <th>1</th>\n",
       "      <td>Randwick</td>\n",
       "      <td>2011.0</td>\n",
       "      <td>11.0</td>\n",
       "      <td>1417000.0</td>\n",
       "      <td>49.0</td>\n",
       "      <td>3660000.0</td>\n",
       "      <td>880000.0</td>\n",
       "      <td>1600000.0</td>\n",
       "      <td>97.0</td>\n",
       "      <td>6000000.0</td>\n",
       "      <td>700000.0</td>\n",
       "      <td>47.0</td>\n",
       "      <td>23.0</td>\n",
       "      <td>880.0</td>\n",
       "    </tr>\n",
       "    <tr>\n",
       "      <th>2</th>\n",
       "      <td>Randwick</td>\n",
       "      <td>2012.0</td>\n",
       "      <td>2.0</td>\n",
       "      <td>1520000.0</td>\n",
       "      <td>24.0</td>\n",
       "      <td>6200000.0</td>\n",
       "      <td>890000.0</td>\n",
       "      <td>1600000.0</td>\n",
       "      <td>62.0</td>\n",
       "      <td>5850000.0</td>\n",
       "      <td>570000.0</td>\n",
       "      <td>10.0</td>\n",
       "      <td>5.0</td>\n",
       "      <td>975.0</td>\n",
       "    </tr>\n",
       "    <tr>\n",
       "      <th>3</th>\n",
       "      <td>Randwick</td>\n",
       "      <td>2012.0</td>\n",
       "      <td>5.0</td>\n",
       "      <td>1555000.0</td>\n",
       "      <td>44.0</td>\n",
       "      <td>3325000.0</td>\n",
       "      <td>565000.0</td>\n",
       "      <td>1550000.0</td>\n",
       "      <td>77.0</td>\n",
       "      <td>3590000.0</td>\n",
       "      <td>570000.0</td>\n",
       "      <td>30.0</td>\n",
       "      <td>17.0</td>\n",
       "      <td>850.0</td>\n",
       "    </tr>\n",
       "    <tr>\n",
       "      <th>4</th>\n",
       "      <td>Randwick</td>\n",
       "      <td>2012.0</td>\n",
       "      <td>8.0</td>\n",
       "      <td>1385000.0</td>\n",
       "      <td>27.0</td>\n",
       "      <td>3050000.0</td>\n",
       "      <td>703000.0</td>\n",
       "      <td>1500000.0</td>\n",
       "      <td>57.0</td>\n",
       "      <td>4250000.0</td>\n",
       "      <td>650000.0</td>\n",
       "      <td>19.0</td>\n",
       "      <td>11.0</td>\n",
       "      <td>825.0</td>\n",
       "    </tr>\n",
       "  </tbody>\n",
       "</table>\n",
       "</div>"
      ],
      "text/plain": [
       "     Suburb    Year  Month  Median_Sale_Price  Number_Sold  \\\n",
       "0  Randwick  2011.0    8.0          1422000.0         40.0   \n",
       "1  Randwick  2011.0   11.0          1417000.0         49.0   \n",
       "2  Randwick  2012.0    2.0          1520000.0         24.0   \n",
       "3  Randwick  2012.0    5.0          1555000.0         44.0   \n",
       "4  Randwick  2012.0    8.0          1385000.0         27.0   \n",
       "\n",
       "   Highest_Sold_Price  Lowest_Sold_Price  Median_Sale_Listing_Price  \\\n",
       "0           5450000.0           690000.0                  1578000.0   \n",
       "1           3660000.0           880000.0                  1600000.0   \n",
       "2           6200000.0           890000.0                  1600000.0   \n",
       "3           3325000.0           565000.0                  1550000.0   \n",
       "4           3050000.0           703000.0                  1500000.0   \n",
       "\n",
       "   Number_Sale_Listing  Highest_Sale_Listing_Price  Lowest_Sale_Listing_Price  \\\n",
       "0                 81.0                   8000000.0                   775000.0   \n",
       "1                 97.0                   6000000.0                   700000.0   \n",
       "2                 62.0                   5850000.0                   570000.0   \n",
       "3                 77.0                   3590000.0                   570000.0   \n",
       "4                 57.0                   4250000.0                   650000.0   \n",
       "\n",
       "   Auction_Number  Auction_Sold  Median_Rent_Listing_Price  \n",
       "0            32.0          20.0                      950.0  \n",
       "1            47.0          23.0                      880.0  \n",
       "2            10.0           5.0                      975.0  \n",
       "3            30.0          17.0                      850.0  \n",
       "4            19.0          11.0                      825.0  "
      ]
     },
     "execution_count": 11,
     "metadata": {},
     "output_type": "execute_result"
    }
   ],
   "source": [
    "nsw_prop_df = nsw_prop_df[['Suburb', 'Year', 'Month', 'Median_Sale_Price', 'Number_Sold',\n",
    "       'Highest_Sold_Price', 'Lowest_Sold_Price', 'Median_Sale_Listing_Price',\n",
    "       'Number_Sale_Listing', 'Highest_Sale_Listing_Price',\n",
    "       'Lowest_Sale_Listing_Price', 'Auction_Number', 'Auction_Sold',\n",
    "       'Median_Rent_Listing_Price']]\n",
    "\n",
    "nsw_prop_df.head()"
   ]
  },
  {
   "cell_type": "markdown",
   "metadata": {},
   "source": [
    "## 6. View Column Data Types"
   ]
  },
  {
   "cell_type": "code",
   "execution_count": 7,
   "metadata": {},
   "outputs": [
    {
     "data": {
      "text/plain": [
       "year                       float64\n",
       "month                      float64\n",
       "suburb                      object\n",
       "medianSoldPrice            float64\n",
       "numberSold                 float64\n",
       "highestSoldPrice           float64\n",
       "lowestSoldPrice            float64\n",
       "medianSaleListingPrice     float64\n",
       "numberSaleListing          float64\n",
       "highestSaleListingPrice    float64\n",
       "lowestSaleListingPrice     float64\n",
       "auctionNumberAuctioned     float64\n",
       "auctionNumberSold          float64\n",
       "medianRentListingPrice     float64\n",
       "dtype: object"
      ]
     },
     "execution_count": 7,
     "metadata": {},
     "output_type": "execute_result"
    }
   ],
   "source": [
    "# Use the `dtypes` attribute to list the column data types\n",
    "nsw_prop_df.dtypes"
   ]
  },
  {
   "cell_type": "markdown",
   "metadata": {},
   "source": [
    "## 5. Drop Extraneous Columns"
   ]
  },
  {
   "cell_type": "code",
   "execution_count": null,
   "metadata": {},
   "outputs": [],
   "source": [
    "# Use the `drop` function to drop specific columns\n",
    "people_df.drop(columns=['Unnamed: 0'], inplace=True)\n",
    "people_df.head()"
   ]
  },
  {
   "cell_type": "markdown",
   "metadata": {},
   "source": [
    "---"
   ]
  },
  {
   "cell_type": "markdown",
   "metadata": {},
   "source": [
    "## 6. Identify Data Quality Issues"
   ]
  },
  {
   "cell_type": "markdown",
   "metadata": {},
   "source": [
    "### 1. Identify the Number of Rows"
   ]
  },
  {
   "cell_type": "code",
   "execution_count": null,
   "metadata": {},
   "outputs": [],
   "source": [
    "# Use the `count` function to view count of non-null values for each column\n",
    "people_df.count()"
   ]
  },
  {
   "cell_type": "markdown",
   "metadata": {},
   "source": [
    "### 2. Identify Frequency Counts of a Specific Column"
   ]
  },
  {
   "cell_type": "code",
   "execution_count": null,
   "metadata": {},
   "outputs": [],
   "source": [
    "# Identifying frequency counts of the `first_name` column\n",
    "people_df['First_Name'].value_counts()"
   ]
  },
  {
   "cell_type": "markdown",
   "metadata": {},
   "source": [
    "### 3. Identify Null Values"
   ]
  },
  {
   "cell_type": "code",
   "execution_count": null,
   "metadata": {},
   "outputs": [],
   "source": [
    "# Checking for null\n",
    "people_df.isnull()"
   ]
  },
  {
   "cell_type": "code",
   "execution_count": null,
   "metadata": {},
   "outputs": [],
   "source": [
    "False==0"
   ]
  },
  {
   "cell_type": "markdown",
   "metadata": {},
   "source": [
    "### 4. Determine the Number of Nulls"
   ]
  },
  {
   "cell_type": "code",
   "execution_count": null,
   "metadata": {},
   "outputs": [],
   "source": [
    "# Determining number of nulls\n",
    "people_df.isnull().sum()"
   ]
  },
  {
   "cell_type": "markdown",
   "metadata": {},
   "source": [
    "### 5. Determining the Percentage of Nulls for each Column"
   ]
  },
  {
   "cell_type": "code",
   "execution_count": null,
   "metadata": {},
   "outputs": [],
   "source": [
    "# Determining percentage of nulls\n",
    "people_df.isnull().sum() / len(people_df) * 100"
   ]
  },
  {
   "cell_type": "markdown",
   "metadata": {},
   "source": [
    "### 6. Check for Duplicate Rows"
   ]
  },
  {
   "cell_type": "code",
   "execution_count": null,
   "metadata": {},
   "outputs": [],
   "source": [
    "# Use the `duplicated` function to determine the existance of duplicate rows: True or False\n",
    "people_df.duplicated()"
   ]
  },
  {
   "cell_type": "markdown",
   "metadata": {},
   "source": [
    "### 7. Check for Duplicate `first_name` Values"
   ]
  },
  {
   "cell_type": "code",
   "execution_count": null,
   "metadata": {},
   "outputs": [],
   "source": [
    "# Use the `duplicated` function in conjunction with a list of columns to \n",
    "# determine the existence of duplicate rows based on the selected columns\n",
    "people_df[['First_Name', 'Last_Name']].duplicated()"
   ]
  },
  {
   "cell_type": "markdown",
   "metadata": {},
   "source": [
    "---"
   ]
  },
  {
   "cell_type": "markdown",
   "metadata": {},
   "source": [
    "## 7. Resolve Data Quality Issues"
   ]
  },
  {
   "cell_type": "markdown",
   "metadata": {},
   "source": [
    "### 1. Fill First_Name and Last_Name Null Values with Default Value \"Unnamed\""
   ]
  },
  {
   "cell_type": "code",
   "execution_count": null,
   "metadata": {},
   "outputs": [],
   "source": [
    "# Cleanse nulls from DataFrame by filling na\n",
    "people_df['First_Name'] = people_df['First_Name'].fillna(\"Unnamed\")\n",
    "people_df['Last_Name'] = people_df['Last_Name'].fillna(\"Unnamed\")\n",
    "people_df"
   ]
  },
  {
   "cell_type": "markdown",
   "metadata": {},
   "source": [
    "### 2. Drop Remaining Records with Nulls from DataFrame"
   ]
  },
  {
   "cell_type": "code",
   "execution_count": null,
   "metadata": {},
   "outputs": [],
   "source": [
    "# Use the `dropna` function to drop whole records that have at least one null value\n",
    "people_df.dropna(inplace=True)\n",
    "people_df"
   ]
  },
  {
   "cell_type": "markdown",
   "metadata": {},
   "source": [
    "### 3. Check Null Counts for Each Column (Again)"
   ]
  },
  {
   "cell_type": "code",
   "execution_count": null,
   "metadata": {},
   "outputs": [],
   "source": [
    "# Use the `isnull` function in conjunction with the `sum` function to count the number of null values for each column\n",
    "people_df.isnull().sum()"
   ]
  },
  {
   "cell_type": "markdown",
   "metadata": {},
   "source": [
    "### 4. Cleanse data by Dropping Duplicates"
   ]
  },
  {
   "cell_type": "code",
   "execution_count": null,
   "metadata": {},
   "outputs": [],
   "source": [
    "# Use the `drop_duplicates` function with the `subset` parameter to \n",
    "# drop duplicates based on a selection of columns\n",
    "people_df.drop_duplicates(subset=['Last_Name', 'First_Name'])"
   ]
  },
  {
   "cell_type": "markdown",
   "metadata": {},
   "source": [
    "### 5. Convert Columns to Different DataTypes"
   ]
  },
  {
   "cell_type": "code",
   "execution_count": null,
   "metadata": {},
   "outputs": [],
   "source": [
    "# Use the `as_type` function to convert `Person_ID` from `float` to `int`\n",
    "people_df['Person_ID'] = people_df['Person_ID'].astype('int')\n",
    "people_df"
   ]
  },
  {
   "cell_type": "markdown",
   "metadata": {},
   "source": [
    "## 8. Save Cleansed Data to New CSV"
   ]
  },
  {
   "cell_type": "code",
   "execution_count": null,
   "metadata": {},
   "outputs": [],
   "source": [
    "# Save modified DataFrame to the Resources folder. \n",
    "# Use the `index` parameter set to `False` to exclude saving the index.\n",
    "people_df.to_csv(\"../Resources/people_cleansed.csv\", index=False)"
   ]
  }
 ],
 "metadata": {
  "kernelspec": {
   "display_name": "dev",
   "language": "python",
   "name": "dev"
  },
  "language_info": {
   "codemirror_mode": {
    "name": "ipython",
    "version": 3
   },
   "file_extension": ".py",
   "mimetype": "text/x-python",
   "name": "python",
   "nbconvert_exporter": "python",
   "pygments_lexer": "ipython3",
   "version": "3.7.10"
  }
 },
 "nbformat": 4,
 "nbformat_minor": 4
}
